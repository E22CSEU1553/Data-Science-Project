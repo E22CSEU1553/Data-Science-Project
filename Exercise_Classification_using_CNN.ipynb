{
  "nbformat": 4,
  "nbformat_minor": 0,
  "metadata": {
    "colab": {
      "provenance": []
    },
    "kernelspec": {
      "name": "python3",
      "display_name": "Python 3"
    },
    "language_info": {
      "name": "python"
    }
  },
  "cells": [
    {
      "cell_type": "code",
      "execution_count": null,
      "metadata": {
        "colab": {
          "base_uri": "https://localhost:8080/"
        },
        "id": "aDk_5fpf9h4g",
        "outputId": "0bcfe6e6-6fe5-465b-a09b-4674e2104530"
      },
      "outputs": [
        {
          "output_type": "stream",
          "name": "stdout",
          "text": [
            "Requirement already satisfied: keras in /usr/local/lib/python3.10/dist-packages (2.15.0)\n"
          ]
        }
      ],
      "source": [
        "!pip install keras"
      ]
    },
    {
      "cell_type": "code",
      "source": [
        "!pip install bing-image-downloader"
      ],
      "metadata": {
        "colab": {
          "base_uri": "https://localhost:8080/"
        },
        "id": "h0Kc8ikH_5GK",
        "outputId": "b91e0e24-5a92-403c-aade-8f314bee2b00"
      },
      "execution_count": null,
      "outputs": [
        {
          "output_type": "stream",
          "name": "stdout",
          "text": [
            "Requirement already satisfied: bing-image-downloader in /usr/local/lib/python3.10/dist-packages (1.1.2)\n"
          ]
        }
      ]
    },
    {
      "cell_type": "code",
      "source": [
        "!mkdir image"
      ],
      "metadata": {
        "id": "Nyr6bIiy_9kk"
      },
      "execution_count": null,
      "outputs": []
    },
    {
      "cell_type": "code",
      "source": [
        "from bing_image_downloader import downloader\n",
        "downloader.download(\"squat\",limit=30,output_dir='image',adult_filter_off=True)"
      ],
      "metadata": {
        "colab": {
          "base_uri": "https://localhost:8080/"
        },
        "id": "X01DXIapAC3B",
        "outputId": "c775a2c0-a21b-48e8-e2d1-29478bba8d4f"
      },
      "execution_count": null,
      "outputs": [
        {
          "output_type": "stream",
          "name": "stdout",
          "text": [
            "[%] Downloading Images to /content/image/squat\n",
            "\n",
            "\n",
            "[!!]Indexing page: 1\n",
            "\n",
            "[%] Indexed 30 Images on Page 1.\n",
            "\n",
            "===============================================\n",
            "\n",
            "[%] Downloading Image #1 from https://fitnessvolt.com/wp-content/uploads/2021/03/squat-muscles-worked.jpg\n",
            "[%] File Downloaded !\n",
            "\n",
            "[%] Downloading Image #2 from https://www.musclearmory.com/wp-content/uploads/2020/11/what-muscles-do-squats-work-2048x1365.jpg\n",
            "[%] File Downloaded !\n",
            "\n",
            "[%] Downloading Image #3 from https://blog.playo.co/wp-content/uploads/2018/03/68_jump_squat_166s.ext_3840x2160-scaled.jpg\n",
            "[%] File Downloaded !\n",
            "\n",
            "[%] Downloading Image #4 from https://www.capitalphysiotherapy.com.au/wp-content/uploads/2018/08/Depositphotos_70178821_m-2015-768x890.jpg\n",
            "[%] File Downloaded !\n",
            "\n",
            "[%] Downloading Image #5 from https://www.runtastic.com/blog/wp-content/uploads/2018/07/how-to-squat-common-mistakes-1200x800-1-1024x683.jpg\n",
            "[Error]Invalid image, not saving https://www.runtastic.com/blog/wp-content/uploads/2018/07/how-to-squat-common-mistakes-1200x800-1-1024x683.jpg\n",
            "\n",
            "[!] Issue getting: https://www.runtastic.com/blog/wp-content/uploads/2018/07/how-to-squat-common-mistakes-1200x800-1-1024x683.jpg\n",
            "[!] Error:: Invalid image, not saving https://www.runtastic.com/blog/wp-content/uploads/2018/07/how-to-squat-common-mistakes-1200x800-1-1024x683.jpg\n",
            "\n",
            "[%] Downloading Image #5 from https://media1.popsugar-assets.com/files/thumbor/hUz9srZyTEcOq0WTDuDAawvphn0/fit-in/2048xorig/filters:format_auto-!!-:strip_icc-!!-/2018/01/18/772/n/44223267/tmp_4shQpe_db2c47cab888c16b_goblet_squat_2.JPG\n",
            "[%] File Downloaded !\n",
            "\n",
            "[%] Downloading Image #6 from https://healthhouseclinics.com.au/wp-content/uploads/2018/11/squat.jpg\n",
            "[%] File Downloaded !\n",
            "\n",
            "[%] Downloading Image #7 from https://media1.popsugar-assets.com/files/thumbor/KG97t8EDPNIKk1StXNyrPNNwhCU/fit-in/1024x1024/filters:format_auto-!!-:strip_icc-!!-/2017/06/26/074/n/40863086/94b258ae2bbb1fd7_AAir-Squats.jpg\n",
            "[%] File Downloaded !\n",
            "\n",
            "[%] Downloading Image #8 from https://www.trainer.ae/articles/wp-content/uploads/2015/10/Plié-Squat1.jpg\n",
            "[!] Issue getting: https://www.trainer.ae/articles/wp-content/uploads/2015/10/Plié-Squat1.jpg\n",
            "[!] Error:: 'ascii' codec can't encode character '\\xe9' in position 44: ordinal not in range(128)\n",
            "[%] Downloading Image #8 from https://julielohre.com/wp-content/uploads/2017/11/Barbell-Back-Squat.jpg\n",
            "[%] File Downloaded !\n",
            "\n",
            "[%] Downloading Image #9 from https://www.runnersworld.co.za/wp-content/uploads/2015/09/Squat.jpg\n",
            "[%] File Downloaded !\n",
            "\n",
            "[%] Downloading Image #10 from https://skincaretopnews.com/wp-content/uploads/2020/10/5f3d9c3b42f43f001ddfdee1.jpg\n",
            "[Error]Invalid image, not saving https://skincaretopnews.com/wp-content/uploads/2020/10/5f3d9c3b42f43f001ddfdee1.jpg\n",
            "\n",
            "[!] Issue getting: https://skincaretopnews.com/wp-content/uploads/2020/10/5f3d9c3b42f43f001ddfdee1.jpg\n",
            "[!] Error:: Invalid image, not saving https://skincaretopnews.com/wp-content/uploads/2020/10/5f3d9c3b42f43f001ddfdee1.jpg\n",
            "\n",
            "[%] Downloading Image #10 from http://www.thebarbellphysio.com/wp-content/uploads/2016/04/Squat-Variations.jpg\n",
            "[%] File Downloaded !\n",
            "\n",
            "[%] Downloading Image #11 from https://www.stylist.co.uk/images/app/uploads/2020/03/02111207/how-to-squat.jpg?w=1200&amp;h=1&amp;fit=max&amp;auto=format%2Ccompress\n",
            "[%] File Downloaded !\n",
            "\n",
            "[%] Downloading Image #12 from https://cdn.cheaperks.com/wp-content/uploads/2020/09/Dumbbell-Squat.jpg\n",
            "[Error]Invalid image, not saving https://cdn.cheaperks.com/wp-content/uploads/2020/09/Dumbbell-Squat.jpg\n",
            "\n",
            "[!] Issue getting: https://cdn.cheaperks.com/wp-content/uploads/2020/09/Dumbbell-Squat.jpg\n",
            "[!] Error:: Invalid image, not saving https://cdn.cheaperks.com/wp-content/uploads/2020/09/Dumbbell-Squat.jpg\n",
            "\n",
            "[%] Downloading Image #12 from https://healthrow.net/wp-content/uploads/2019/02/44_lateral_split_squat_003s-copy.jpg\n",
            "[%] File Downloaded !\n",
            "\n",
            "[%] Downloading Image #13 from https://www.trainer.ae/articles/wp-content/uploads/2015/10/squat.jpg\n",
            "[%] File Downloaded !\n",
            "\n",
            "[%] Downloading Image #14 from https://cairogyms.com/wp-content/uploads/2015/06/shutterstock_2025608653.jpg\n",
            "[%] File Downloaded !\n",
            "\n",
            "[%] Downloading Image #15 from https://media1.popsugar-assets.com/files/thumbor/o7yqRC-qiI9W-6N0DUX7alGsc_s/fit-in/1024x1024/filters:format_auto-!!-:strip_icc-!!-/2018/11/07/127/n/1922729/dbcafe5d2ddb1bbe_squat/i/Air-Squat.jpg\n",
            "[%] File Downloaded !\n",
            "\n",
            "[%] Downloading Image #16 from https://bloximages.chicago2.vip.townnews.com/columbustelegram.com/content/tncms/assets/v3/editorial/4/de/4de6180d-3f57-5468-99d0-702367596464/598e95a4e1fc1.image.jpg?resize=1200%2C1200\n",
            "[%] File Downloaded !\n",
            "\n",
            "[%] Downloading Image #17 from https://barbellpursuits.com/wp-content/uploads/2021/07/How-To-Squat-Properly-–-Guide-To-Good-Squat-Form-July-2021-3-1024x1024.png\n",
            "[!] Issue getting: https://barbellpursuits.com/wp-content/uploads/2021/07/How-To-Squat-Properly-–-Guide-To-Good-Squat-Form-July-2021-3-1024x1024.png\n",
            "[!] Error:: 'ascii' codec can't encode character '\\u2013' in position 54: ordinal not in range(128)\n",
            "[%] Downloading Image #17 from https://media1.popsugar-assets.com/files/thumbor/gjJt0kpxglD2UG_QZXoNDrNpl6A/fit-in/2048xorig/filters:format_auto-!!-:strip_icc-!!-/2020/05/07/844/n/1922729/tmp_M4k29K_aac9fae8e4fe86be_Mastering-Basic-Squat.jpg\n",
            "[%] File Downloaded !\n",
            "\n",
            "[%] Downloading Image #18 from https://www.archanaskitchen.com/images/archanaskitchen/1-Author/nikhilhealthifyme.com/Squats.jpg\n",
            "[%] File Downloaded !\n",
            "\n",
            "[%] Downloading Image #19 from https://media1.popsugar-assets.com/files/thumbor/UApVzlzwz22AWtu1y7mhr5kSKMk/fit-in/2048xorig/filters:format_auto-!!-:strip_icc-!!-/2017/09/28/685/n/1922729/tmp_wu6OTZ_7fbe20a5af43fdec_Dumbbell-Sumo-Squat.jpg\n",
            "[%] File Downloaded !\n",
            "\n",
            "[%] Downloading Image #20 from http://dawnastone.com/wp-content/uploads/2014/01/Squats_labeled-copy.jpg\n",
            "[!] Issue getting: http://dawnastone.com/wp-content/uploads/2014/01/Squats_labeled-copy.jpg\n",
            "[!] Error:: HTTP Error 404: Not Found\n",
            "[%] Downloading Image #20 from https://hiitacademy.com/wp-content/uploads/2015/02/squat500.jpg\n",
            "[%] File Downloaded !\n",
            "\n",
            "[%] Downloading Image #21 from https://static.strengthlevel.com/images/illustrations/squat-1000x1000.jpg\n",
            "[%] File Downloaded !\n",
            "\n",
            "[%] Downloading Image #22 from https://cbphysicaltherapy.com/wp-content/uploads/2015/03/Perfect-Squat-1280x1409.jpg\n",
            "[%] File Downloaded !\n",
            "\n",
            "[%] Downloading Image #23 from https://media1.popsugar-assets.com/files/thumbor/sf27b39nw56mnS-pHmDBGM4iTB8/fit-in/2048xorig/filters:format_auto-!!-:strip_icc-!!-/2021/12/02/919/n/1922729/tmp_FnwV6I_4fbb155988ef90be_squat.jpg\n",
            "[%] File Downloaded !\n",
            "\n",
            "[%] Downloading Image #24 from https://i.ytimg.com/vi/flA1X6enLQQ/maxresdefault.jpg\n",
            "[%] File Downloaded !\n",
            "\n",
            "\n",
            "\n",
            "[!!]Indexing page: 2\n",
            "\n",
            "[%] Indexed 35 Images on Page 2.\n",
            "\n",
            "===============================================\n",
            "\n",
            "[%] Downloading Image #25 from https://media1.popsugar-assets.com/files/thumbor/doqWPBMwESIHJdoDtFBnSzSyAe8/fit-in/1024x1024/filters:format_auto-!!-:strip_icc-!!-/2015/07/10/817/n/1922729/823171d0ff146f88_squat_collage/i/Basic-Squat.jpg\n",
            "[%] File Downloaded !\n",
            "\n",
            "[%] Downloading Image #26 from https://media1.popsugar-assets.com/files/thumbor/ctBnjTxmTdu2QQKlbz2pn6EHyIs/fit-in/2048xorig/filters:format_auto-!!-:strip_icc-!!-/2014/11/17/805/n/1922729/e88414ddab9be7cb_narrow-squat/i/Narrow-Squat.jpg\n",
            "[%] File Downloaded !\n",
            "\n",
            "[%] Downloading Image #27 from https://media1.popsugar-assets.com/files/thumbor/KaBMqtjCob5nZeWEvVQl0D-YVUs/fit-in/2048xorig/filters:format_auto-!!-:strip_icc-!!-/2015/08/18/909/n/1922729/75672d0e_wide-squat/i/Wide-Squat.jpg\n",
            "[%] File Downloaded !\n",
            "\n",
            "[%] Downloading Image #28 from https://media1.popsugar-assets.com/files/thumbor/jjndm2eCMo1hft6PsKgBWSvs_5U/fit-in/1024x1024/filters:format_auto-!!-:strip_icc-!!-/2013/10/18/880/n/1922729/b452bf10eaa97514_squat-with-weights/i/Dumbbell-Squat.jpg\n",
            "[%] File Downloaded !\n",
            "\n",
            "[%] Downloading Image #29 from http://3.bp.blogspot.com/-S0EW8xF6Q9g/VYCCKAqJRXI/AAAAAAAAAGs/H1AWary5Tj4/s1600/squat.jpg\n",
            "[%] File Downloaded !\n",
            "\n",
            "[%] Downloading Image #30 from http://cairogyms.com/wp-content/uploads/2015/06/shutterstock_2025608653.jpg\n",
            "[%] File Downloaded !\n",
            "\n",
            "\n",
            "\n",
            "[%] Done. Downloaded 30 images.\n"
          ]
        }
      ]
    },
    {
      "cell_type": "code",
      "source": [
        "from bing_image_downloader import downloader\n",
        "downloader.download(\"plank\",limit=30,output_dir='image',adult_filter_off=True)"
      ],
      "metadata": {
        "colab": {
          "base_uri": "https://localhost:8080/"
        },
        "id": "sbWPJ7XhAPa3",
        "outputId": "682149df-da4c-4c91-8150-5b226f837344"
      },
      "execution_count": null,
      "outputs": [
        {
          "output_type": "stream",
          "name": "stdout",
          "text": [
            "[%] Downloading Images to /content/image/plank\n",
            "\n",
            "\n",
            "[!!]Indexing page: 1\n",
            "\n",
            "[%] Indexed 30 Images on Page 1.\n",
            "\n",
            "===============================================\n",
            "\n",
            "[%] Downloading Image #1 from https://www.verywellfit.com/thmb/34rl-oTpNwZFtFml5Fg82HqWV1A=/2500x1667/filters:fill(FFDB5D%2C1)/Verywell-11-3567193-Plank-679-74ff050ef03e477bab8e4317010f77f3.jpg\n",
            "[%] File Downloaded !\n",
            "\n",
            "[%] Downloading Image #2 from https://getyourleanon.com/wp-content/uploads/2019/04/plank-1030x690.jpg\n",
            "[%] File Downloaded !\n",
            "\n",
            "[%] Downloading Image #3 from https://2.bp.blogspot.com/-f6NSB6qWiRI/UTPW1q3iW6I/AAAAAAAAA7w/LsVD2UOzNZQ/s1600/IMG_3780.JPG\n",
            "[%] File Downloaded !\n",
            "\n",
            "[%] Downloading Image #4 from https://post.greatist.com/wp-content/uploads/sites/2/2019/04/PlankFeature-1200x628.png\n",
            "[%] File Downloaded !\n",
            "\n",
            "[%] Downloading Image #5 from https://media1.popsugar-assets.com/files/thumbor/fQaSHiBt9ZHDjBApDslYuYEtVfs/fit-in/1024x1024/filters:format_auto-!!-:strip_icc-!!-/2018/01/04/787/n/43884129/0e76c8645fa3ee4d_Plank/i/Plank.jpg\n",
            "[%] File Downloaded !\n",
            "\n",
            "[%] Downloading Image #6 from https://images.livemint.com/img/2021/06/24/1140x641/iStock-1150246541_1624523599761_1624523629472.jpg\n",
            "[%] File Downloaded !\n",
            "\n",
            "[%] Downloading Image #7 from https://media.self.com/photos/5d41cebd8dbcaa00089d40cc/2:1/pass/forearm-plank-crystal.jpg\n",
            "[%] File Downloaded !\n",
            "\n",
            "[%] Downloading Image #8 from https://lifeslittlebits.files.wordpress.com/2012/03/plank-exercise1.jpg\n",
            "[Error]Invalid image, not saving https://lifeslittlebits.files.wordpress.com/2012/03/plank-exercise1.jpg\n",
            "\n",
            "[!] Issue getting: https://lifeslittlebits.files.wordpress.com/2012/03/plank-exercise1.jpg\n",
            "[!] Error:: Invalid image, not saving https://lifeslittlebits.files.wordpress.com/2012/03/plank-exercise1.jpg\n",
            "\n",
            "[%] Downloading Image #8 from https://media.self.com/photos/615378c1150f8742ac896749/4:3/w_2560%2Cc_limit/Forearm%2520Plank%2520-%2520Delise_001.jpg\n",
            "[%] File Downloaded !\n",
            "\n",
            "[%] Downloading Image #9 from https://4.bp.blogspot.com/-fZG6J_mmOo8/Ubnfx1wxMKI/AAAAAAAAAeU/2eddyFpXdME/s1600/ciara+plank.JPG\n",
            "[%] File Downloaded !\n",
            "\n",
            "[%] Downloading Image #10 from https://s-i.huffpost.com/gen/1938823/images/o-PLANK-VARIATIONS-facebook.jpg\n",
            "[%] File Downloaded !\n",
            "\n",
            "[%] Downloading Image #11 from https://media1.popsugar-assets.com/files/thumbor/KOzi3ofX58wLON-9wZxAG57G6C0/fit-in/2048xorig/filters:format_auto-!!-:strip_icc-!!-/2015/11/13/625/n/1922729/40857633_Side-Plank-Sage-Multi/i/Side-Plank-Pose.jpg\n",
            "[%] File Downloaded !\n",
            "\n",
            "[%] Downloading Image #12 from http://2.bp.blogspot.com/-lFn6TGxLS0Y/VCqmhtfyDcI/AAAAAAAAAME/3OpOCBkWrPo/s1600/Plank-Collage.jpg\n",
            "[%] File Downloaded !\n",
            "\n",
            "[%] Downloading Image #13 from http://redefiningstrength.com/wp-content/uploads/2014/11/plank-variations.jpg\n",
            "[%] File Downloaded !\n",
            "\n",
            "[%] Downloading Image #14 from https://yogateket.com/imagecache/original/Plank_posture.jpg\n",
            "[%] File Downloaded !\n",
            "\n",
            "[%] Downloading Image #15 from https://media.gq.com/photos/57055d0d244f7cb971462730/16:9/pass/details-plank.jpg\n",
            "[%] File Downloaded !\n",
            "\n",
            "[%] Downloading Image #16 from http://buzznigeria.com/wp-content/uploads/2016/05/Reverse-Plank.jpg\n",
            "[%] File Downloaded !\n",
            "\n",
            "[%] Downloading Image #17 from https://hips.hearstapps.com/cosmouk.cdnds.net/cm/14/31/640x500/53d5131a04f0c_-_plank.jpg?resize=1200:*\n",
            "[%] File Downloaded !\n",
            "\n",
            "[%] Downloading Image #18 from https://s2.r29static.com/bin/entry/eb4/0,0,2000,1050/x/1627636/image.png\n",
            "[%] File Downloaded !\n",
            "\n",
            "[%] Downloading Image #19 from https://media1.popsugar-assets.com/files/thumbor/z-POjFxJv3sBDShV66V-I9AbSrA/fit-in/1024x1024/filters:format_auto-!!-:strip_icc-!!-/2017/01/05/271/n/1922729/dcd61469586f2b980bb1a9.20863577_plank-boarder/i/Plank.jpg\n",
            "[%] File Downloaded !\n",
            "\n",
            "[%] Downloading Image #20 from https://www.peanutbutterrunner.com/wp-content/uploads/2016/05/plankbuttup.jpg\n",
            "[%] File Downloaded !\n",
            "\n",
            "[%] Downloading Image #21 from https://pi-nutrition.com/wp-content/uploads/2018/03/plank2-1024x880.jpg\n",
            "[%] File Downloaded !\n",
            "\n",
            "[%] Downloading Image #22 from https://res-3.cloudinary.com/rubberbanditz/image/upload/c_limit,dpr_2.0,f_auto,h_1000,q_auto,w_1250/v1/media/catalog/product/p/l/plank__53.jpg\n",
            "[%] File Downloaded !\n",
            "\n",
            "[%] Downloading Image #23 from https://www.youngisthan.in/wp-content/uploads/2018/11/plank-featured-.jpg\n",
            "[%] File Downloaded !\n",
            "\n",
            "[%] Downloading Image #24 from http://media4.popsugar-assets.com/files/2014/01/18/687/n/1922729/347c8ea27c6bb4a6_plank-jack-.jpg.xxxlarge/i/Plank-Jacks.jpg\n",
            "[%] File Downloaded !\n",
            "\n",
            "[%] Downloading Image #25 from https://www.wikihow.com/images/9/9f/Perform-the-Plank-Exercise-Step-6.jpg\n",
            "[%] File Downloaded !\n",
            "\n",
            "[%] Downloading Image #26 from https://notyouraveragerunner.com/wp-content/uploads/2015/01/plank-2-canstockphoto19209691-e1421936131148.jpg\n",
            "[%] File Downloaded !\n",
            "\n",
            "[%] Downloading Image #27 from https://www.shape.com/thmb/FPE6J7SvJVMhV9-bkKzF4lotxPI=/1500x0/filters:no_upscale():max_bytes(150000):strip_icc()/side-plank-reach-e271162891e347bf8ade6552541b018e.jpg\n",
            "[%] File Downloaded !\n",
            "\n",
            "[%] Downloading Image #28 from https://cdn-ami-drupal.heartyhosting.com/sites/muscleandfitness.com/files/plank-chest-main.jpg\n",
            "[%] File Downloaded !\n",
            "\n",
            "[%] Downloading Image #29 from https://mirafit.co.uk/wp/wp-content/uploads/2021/03/Plank-1024x683.jpg\n",
            "[Error]Invalid image, not saving https://mirafit.co.uk/wp/wp-content/uploads/2021/03/Plank-1024x683.jpg\n",
            "\n",
            "[!] Issue getting: https://mirafit.co.uk/wp/wp-content/uploads/2021/03/Plank-1024x683.jpg\n",
            "[!] Error:: Invalid image, not saving https://mirafit.co.uk/wp/wp-content/uploads/2021/03/Plank-1024x683.jpg\n",
            "\n",
            "\n",
            "\n",
            "[!!]Indexing page: 2\n",
            "\n",
            "[%] Indexed 35 Images on Page 2.\n",
            "\n",
            "===============================================\n",
            "\n",
            "[%] Downloading Image #29 from https://classpass.com/blog/wp-content/uploads/2017/05/20170606_plank.jpg\n",
            "[%] File Downloaded !\n",
            "\n",
            "[%] Downloading Image #30 from https://www.tucsonstrength.com/wp-content/uploads/2017/09/Plank-Form-1024x740.jpg\n",
            "[%] File Downloaded !\n",
            "\n",
            "\n",
            "\n",
            "[%] Done. Downloaded 30 images.\n"
          ]
        }
      ]
    },
    {
      "cell_type": "code",
      "source": [
        "from bing_image_downloader import downloader\n",
        "downloader.download(\"pushup\",limit=30,output_dir='image',adult_filter_off=True)"
      ],
      "metadata": {
        "colab": {
          "base_uri": "https://localhost:8080/"
        },
        "id": "duBBPZCpAXJ4",
        "outputId": "da34aba9-513a-45ac-da0e-87c84b6b4b30"
      },
      "execution_count": null,
      "outputs": [
        {
          "output_type": "stream",
          "name": "stdout",
          "text": [
            "[%] Downloading Images to /content/image/pushup\n",
            "\n",
            "\n",
            "[!!]Indexing page: 1\n",
            "\n",
            "[%] Indexed 31 Images on Page 1.\n",
            "\n",
            "===============================================\n",
            "\n",
            "[%] Downloading Image #1 from https://media1.popsugar-assets.com/files/thumbor/P_LRRBtYcEuqWqqDT4xPu6OsBLM/fit-in/2048xorig/filters:format_auto-!!-:strip_icc-!!-/2017/03/22/738/n/1922729/8589c22c445d63e2_0e7e9800cb65fd44_Tricep-Push-Up.jpg\n",
            "[%] File Downloaded !\n",
            "\n",
            "[%] Downloading Image #2 from https://www.verywellfit.com/thmb/G_PLH6g6WFNoNbyCYOAmnt1HEUY=/1500x1000/filters:fill(FFDB5D,1)/Verywell-42-3498282-Pushup01-1596-5994a0f8519de20010b3bdd3.gif\n",
            "[%] File Downloaded !\n",
            "\n",
            "[%] Downloading Image #3 from https://www.bing.com/th/id/OGC.4d077bdda83fd32c4105ccd807b445c2?pid=1.7&amp;rurl=https%3a%2f%2fwww.verywellfit.com%2fthmb%2fG_PLH6g6WFNoNbyCYOAmnt1HEUY%3d%2f1500x1000%2ffilters%3afill(FFDB5D%2c1)%2fVerywell-42-3498282-Pushup01-1596-5994a0f8519de20010b3bdd3.gif&amp;ehk=Nv42AdvEUYGokUYk8nGILVDv%2foYy8aUi%2b5FmdKhXzH8%3d\n",
            "[!] Issue getting: https://www.bing.com/th/id/OGC.4d077bdda83fd32c4105ccd807b445c2?pid=1.7&amp;rurl=https%3a%2f%2fwww.verywellfit.com%2fthmb%2fG_PLH6g6WFNoNbyCYOAmnt1HEUY%3d%2f1500x1000%2ffilters%3afill(FFDB5D%2c1)%2fVerywell-42-3498282-Pushup01-1596-5994a0f8519de20010b3bdd3.gif&amp;ehk=Nv42AdvEUYGokUYk8nGILVDv%2foYy8aUi%2b5FmdKhXzH8%3d\n",
            "[!] Error:: HTTP Error 404: Not Found\n",
            "[%] Downloading Image #3 from https://media1.popsugar-assets.com/files/thumbor/ArsvymzjafH53GPfbjjcCcB3PxI/fit-in/1024x1024/filters:format_auto-!!-:strip_icc-!!-/2014/10/31/677/n/1922729/f5a12f7fbcd52af8_Basic-Push-Up.jpg\n",
            "[%] File Downloaded !\n",
            "\n",
            "[%] Downloading Image #4 from https://manofmany.com/wp-content/uploads/2020/02/How-to-do-a-proper-pushup.jpg\n",
            "[%] File Downloaded !\n",
            "\n",
            "[%] Downloading Image #5 from https://www.wikihow.com/images/e/e1/Build-Muscle-Doing-Push-Ups-Step-13.jpg\n",
            "[%] File Downloaded !\n",
            "\n",
            "[%] Downloading Image #6 from https://www.fitnesseducation.edu.au/wp-content/uploads/2020/10/Pushups.jpg\n",
            "[%] File Downloaded !\n",
            "\n",
            "[%] Downloading Image #7 from https://madbarzpictures.blob.core.windows.net/madbarzpictures/variations-of-pushups.jpg\n",
            "[%] File Downloaded !\n",
            "\n",
            "[%] Downloading Image #8 from https://whitecoattrainer.com/wp-content/uploads/2019/03/33b12-push-up-form.jpgpush-up-form.jpg\n",
            "[%] File Downloaded !\n",
            "\n",
            "[%] Downloading Image #9 from https://news.harvard.edu/wp-content/uploads/2019/02/iStock-man-doing-pushups.jpg?w=1200&amp;h=800&amp;crop=1\n",
            "[%] File Downloaded !\n",
            "\n",
            "[%] Downloading Image #10 from https://www.muscleandfitness.com/wp-content/uploads/2017/05/pushup-1-1109.jpg?w=1300&amp;h=731&amp;crop=1&amp;quality=86&amp;strip=all\n",
            "[%] File Downloaded !\n",
            "\n",
            "[%] Downloading Image #11 from https://i.stack.imgur.com/dHW3b.jpg\n",
            "[%] File Downloaded !\n",
            "\n",
            "[%] Downloading Image #12 from https://www.smartfitnessresults.com/wp-content/uploads/2018/12/Man-Push-up-at-home-1.jpg\n",
            "[!] Issue getting: https://www.smartfitnessresults.com/wp-content/uploads/2018/12/Man-Push-up-at-home-1.jpg\n",
            "[!] Error:: Remote end closed connection without response\n",
            "[%] Downloading Image #12 from https://www.muscleandfitness.com/wp-content/uploads/2017/05/pushup-plank-1109.jpg?quality=86&amp;strip=all\n",
            "[%] File Downloaded !\n",
            "\n",
            "[%] Downloading Image #13 from https://dm0qx8t0i9gc9.cloudfront.net/thumbnails/video/Hc_TvUoHMjcyusz29/videoblocks-man-doing-push-ups_hbfavx2if_thumbnail-1080_01.png\n",
            "[%] File Downloaded !\n",
            "\n",
            "[%] Downloading Image #14 from https://www.drivelinebaseball.com/wp-content/uploads/2020/12/push-up-2.jpg\n",
            "[%] File Downloaded !\n",
            "\n",
            "[%] Downloading Image #15 from https://1.bp.blogspot.com/-4ZAL_w3_U60/Uhts1B8W4nI/AAAAAAAAAOo/TeWnJjWsAjY/s1600/PushUp-ChairMod-Movement.png\n",
            "[%] File Downloaded !\n",
            "\n",
            "[%] Downloading Image #16 from http://sbrsport.files.wordpress.com/2013/03/pushup-girl.jpg\n",
            "[%] File Downloaded !\n",
            "\n",
            "[%] Downloading Image #17 from https://www.poworkout.com/media/image/58/retina/pushup.jpg;jsessionid=luONXFNGyUl_0h6Wnt9SVwokNZHsdRV93zDdGDr9.n2\n",
            "[%] File Downloaded !\n",
            "\n",
            "[%] Downloading Image #18 from https://www.outsideonline.com/wp-content/uploads/2017/07/27/perfect-push-up_s.jpg\n",
            "[%] File Downloaded !\n",
            "\n",
            "[%] Downloading Image #19 from https://4.bp.blogspot.com/-vIezSrIchp4/UaZPPWZU72I/AAAAAAAAAHg/shqTSn8gfZ0/s1600/550px-Do-a-Push-Up-Step-6.jpg\n",
            "[%] File Downloaded !\n",
            "\n",
            "[%] Downloading Image #20 from https://img.thedailybeast.com/image/upload/c_crop,d_placeholder_euli9k,h_1439,w_2560,x_0,y_0/dpr_1.5/c_limit,w_1044/fl_lossy,q_auto/v1605047316/push-up-elite_qfyl7o\n",
            "[%] File Downloaded !\n",
            "\n",
            "[%] Downloading Image #21 from https://www.johnsonfitness.com/blog/wp-content/uploads/2015/11/iStock_000042278894_Full-2.jpg\n",
            "[%] File Downloaded !\n",
            "\n",
            "[%] Downloading Image #22 from http://www.the6thfloor.com/wp-content/uploads/2012/06/pushup.png\n",
            "[!] Issue getting: http://www.the6thfloor.com/wp-content/uploads/2012/06/pushup.png\n",
            "[!] Error:: Remote end closed connection without response\n",
            "[%] Downloading Image #22 from https://images.saymedia-content.com/.image/t_share/MTc1MTI1OTk4NDQwODE4NTAw/are-push-ups-enough-can-you-bulk-up-doing-difficult-push-up-variations.jpg\n",
            "[%] File Downloaded !\n",
            "\n",
            "[%] Downloading Image #23 from https://1.bp.blogspot.com/-eTPl-V5ChdQ/UhIQZYQjieI/AAAAAAAAAOY/CMs8CrhJNT4/s1600/PushUp-Regular-SetUp.png\n",
            "[%] File Downloaded !\n",
            "\n",
            "[%] Downloading Image #24 from https://madbarzpictures.blob.core.windows.net/madbarzpictures/full-range-of-motion.jpg\n",
            "[%] File Downloaded !\n",
            "\n",
            "[%] Downloading Image #25 from https://blog.nasm.org/hs-fs/hubfs/pushup-with-band.jpg?width=1500&amp;name=pushup-with-band.jpg\n",
            "[%] File Downloaded !\n",
            "\n",
            "[%] Downloading Image #26 from https://yurielkaim.com/wp-content/uploads/2012/03/How-to-Do-More-Push-Ups.jpg\n",
            "[%] File Downloaded !\n",
            "\n",
            "[%] Downloading Image #27 from https://4.bp.blogspot.com/-M1Tiik1_2IE/UsFy9s-lb_I/AAAAAAAAATE/W4HDC-TIjNQ/s1600/PushUp-Wide-SetUp.png\n",
            "[%] File Downloaded !\n",
            "\n",
            "[%] Downloading Image #28 from https://www.mondaycampaigns.org/wp-content/uploads/2020/08/move-it-monday-feature-progression-of-a-push-up.png\n",
            "[%] File Downloaded !\n",
            "\n",
            "\n",
            "\n",
            "[!!]Indexing page: 2\n",
            "\n",
            "[%] Indexed 36 Images on Page 2.\n",
            "\n",
            "===============================================\n",
            "\n",
            "[%] Downloading Image #29 from https://media1.popsugar-assets.com/files/thumbor/_7Tm-E9UqiwRZbNlY8ItXL5wU2k/fit-in/2048xorig/filters:format_auto-!!-:strip_icc-!!-/2017/04/20/838/n/1922729/482d4566494adf6f_8589c22c445d63e2_0e7e9800cb65fd44_Tricep-Push-Up.jpg\n",
            "[%] File Downloaded !\n",
            "\n",
            "[%] Downloading Image #30 from https://media1.popsugar-assets.com/files/thumbor/ni6Dwk9KVt-Csy1DfwzrP1cuWyY/fit-in/1024x1024/filters:format_auto-!!-:strip_icc-!!-/2015/04/08/018/n/1922729/13df28b9_Upper-Body-Push-Up/i/Push-Up.jpg\n",
            "[%] File Downloaded !\n",
            "\n",
            "\n",
            "\n",
            "[%] Done. Downloaded 30 images.\n"
          ]
        }
      ]
    },
    {
      "cell_type": "code",
      "source": [
        "!pip install ipython-autotime\n",
        "%load_ext autotime"
      ],
      "metadata": {
        "colab": {
          "base_uri": "https://localhost:8080/"
        },
        "id": "ME6hGLXZOSi6",
        "outputId": "715b5518-b912-40e9-95ad-5893d76ac82f"
      },
      "execution_count": null,
      "outputs": [
        {
          "output_type": "stream",
          "name": "stdout",
          "text": [
            "Requirement already satisfied: ipython-autotime in /usr/local/lib/python3.10/dist-packages (0.3.2)\n",
            "Requirement already satisfied: ipython in /usr/local/lib/python3.10/dist-packages (from ipython-autotime) (7.34.0)\n",
            "Requirement already satisfied: setuptools>=18.5 in /usr/local/lib/python3.10/dist-packages (from ipython->ipython-autotime) (67.7.2)\n",
            "Requirement already satisfied: jedi>=0.16 in /usr/local/lib/python3.10/dist-packages (from ipython->ipython-autotime) (0.19.1)\n",
            "Requirement already satisfied: decorator in /usr/local/lib/python3.10/dist-packages (from ipython->ipython-autotime) (4.4.2)\n",
            "Requirement already satisfied: pickleshare in /usr/local/lib/python3.10/dist-packages (from ipython->ipython-autotime) (0.7.5)\n",
            "Requirement already satisfied: traitlets>=4.2 in /usr/local/lib/python3.10/dist-packages (from ipython->ipython-autotime) (5.7.1)\n",
            "Requirement already satisfied: prompt-toolkit!=3.0.0,!=3.0.1,<3.1.0,>=2.0.0 in /usr/local/lib/python3.10/dist-packages (from ipython->ipython-autotime) (3.0.43)\n",
            "Requirement already satisfied: pygments in /usr/local/lib/python3.10/dist-packages (from ipython->ipython-autotime) (2.16.1)\n",
            "Requirement already satisfied: backcall in /usr/local/lib/python3.10/dist-packages (from ipython->ipython-autotime) (0.2.0)\n",
            "Requirement already satisfied: matplotlib-inline in /usr/local/lib/python3.10/dist-packages (from ipython->ipython-autotime) (0.1.7)\n",
            "Requirement already satisfied: pexpect>4.3 in /usr/local/lib/python3.10/dist-packages (from ipython->ipython-autotime) (4.9.0)\n",
            "Requirement already satisfied: parso<0.9.0,>=0.8.3 in /usr/local/lib/python3.10/dist-packages (from jedi>=0.16->ipython->ipython-autotime) (0.8.4)\n",
            "Requirement already satisfied: ptyprocess>=0.5 in /usr/local/lib/python3.10/dist-packages (from pexpect>4.3->ipython->ipython-autotime) (0.7.0)\n",
            "Requirement already satisfied: wcwidth in /usr/local/lib/python3.10/dist-packages (from prompt-toolkit!=3.0.0,!=3.0.1,<3.1.0,>=2.0.0->ipython->ipython-autotime) (0.2.13)\n",
            "time: 500 µs (started: 2024-04-24 10:57:07 +00:00)\n"
          ]
        }
      ]
    },
    {
      "cell_type": "code",
      "source": [
        "import os\n",
        "import matplotlib.pyplot as plt\n",
        "import numpy as np\n",
        "from skimage.io import imread\n",
        "from skimage.transform import resize\n",
        "\n",
        "target=[]\n",
        "images=[]\n",
        "flat_data=[]\n",
        "DATADIR='/content/image'\n",
        "CATEGORIES=['squat','plank','pushup']\n",
        "for category in CATEGORIES:\n",
        "  class_num=CATEGORIES.index(category)\n",
        "  path=os.path.join(DATADIR,category)\n",
        "  for img in os.listdir(path):\n",
        "    img_array=imread(os.path.join(path,img))\n",
        "    #print(img_array.shape)\n",
        "    #plt.imshow(img_array)\n",
        "    img_resized = resize(img_array,(150,150,3))\n",
        "    flat_data.append(img_resized.flatten())\n",
        "    images.append(img_resized)\n",
        "    target.append(class_num)\n",
        "\n",
        "flat_data=np.array(flat_data)\n",
        "target=np.array(target)\n",
        "images=np.array(images)\n"
      ],
      "metadata": {
        "colab": {
          "base_uri": "https://localhost:8080/"
        },
        "id": "r7rTzUQTOddJ",
        "outputId": "7d6cec7b-011a-4040-90ac-0d04733db474"
      },
      "execution_count": null,
      "outputs": [
        {
          "output_type": "stream",
          "name": "stdout",
          "text": [
            "time: 1min 37s (started: 2024-04-24 10:58:13 +00:00)\n"
          ]
        }
      ]
    },
    {
      "cell_type": "code",
      "source": [
        "flat_data[0]"
      ],
      "metadata": {
        "colab": {
          "base_uri": "https://localhost:8080/"
        },
        "id": "tgoNkq-zPlIP",
        "outputId": "cb6f5e5a-42ac-4126-c484-ca08d0b73b61"
      },
      "execution_count": null,
      "outputs": [
        {
          "output_type": "execute_result",
          "data": {
            "text/plain": [
              "array([0.84294903, 0.85437765, 0.86982682, ..., 0.0785874 , 0.12956779,\n",
              "       0.16094033])"
            ]
          },
          "metadata": {},
          "execution_count": 21
        },
        {
          "output_type": "stream",
          "name": "stdout",
          "text": [
            "time: 4.34 ms (started: 2024-04-24 11:00:02 +00:00)\n"
          ]
        }
      ]
    },
    {
      "cell_type": "code",
      "source": [
        "target"
      ],
      "metadata": {
        "colab": {
          "base_uri": "https://localhost:8080/"
        },
        "id": "LhAX_9C8PpFh",
        "outputId": "ea8513bd-2eb1-4528-866a-68654562b680"
      },
      "execution_count": null,
      "outputs": [
        {
          "output_type": "execute_result",
          "data": {
            "text/plain": [
              "array([0, 0, 0, 0, 0, 0, 0, 0, 0, 0, 0, 0, 0, 0, 0, 0, 0, 0, 0, 0, 0, 0,\n",
              "       0, 0, 0, 0, 0, 0, 0, 0, 1, 1, 1, 1, 1, 1, 1, 1, 1, 1, 1, 1, 1, 1,\n",
              "       1, 1, 1, 1, 1, 1, 1, 1, 1, 1, 1, 1, 1, 1, 1, 1, 2, 2, 2, 2, 2, 2,\n",
              "       2, 2, 2, 2, 2, 2, 2, 2, 2, 2, 2, 2, 2, 2, 2, 2, 2, 2, 2, 2, 2, 2,\n",
              "       2, 2])"
            ]
          },
          "metadata": {},
          "execution_count": 22
        },
        {
          "output_type": "stream",
          "name": "stdout",
          "text": [
            "time: 4.14 ms (started: 2024-04-24 11:00:07 +00:00)\n"
          ]
        }
      ]
    },
    {
      "cell_type": "code",
      "source": [
        "unique,count=np.unique(target,return_counts=True)\n",
        "plt.bar(CATEGORIES,count)"
      ],
      "metadata": {
        "colab": {
          "base_uri": "https://localhost:8080/",
          "height": 465
        },
        "id": "2JKXfCXPPsl4",
        "outputId": "0239e776-6385-411f-9f41-66b27c347a08"
      },
      "execution_count": null,
      "outputs": [
        {
          "output_type": "execute_result",
          "data": {
            "text/plain": [
              "<BarContainer object of 3 artists>"
            ]
          },
          "metadata": {},
          "execution_count": 23
        },
        {
          "output_type": "display_data",
          "data": {
            "text/plain": [
              "<Figure size 640x480 with 1 Axes>"
            ],
            "image/png": "[encoded data removed]"
          },
          "metadata": {}
        },
        {
          "output_type": "stream",
          "name": "stdout",
          "text": [
            "time: 182 ms (started: 2024-04-24 11:00:12 +00:00)\n"
          ]
        }
      ]
    },
    {
      "cell_type": "code",
      "source": [
        "from sklearn.model_selection import train_test_split\n",
        "x_train,x_test,y_train,y_test=train_test_split(flat_data,target,test_size=0.3,random_state=109)"
      ],
      "metadata": {
        "colab": {
          "base_uri": "https://localhost:8080/"
        },
        "id": "K3-LVqycPx3c",
        "outputId": "b94a1b14-85ea-418a-8472-20a79271a734"
      },
      "execution_count": null,
      "outputs": [
        {
          "output_type": "stream",
          "name": "stdout",
          "text": [
            "time: 33 ms (started: 2024-04-24 11:00:17 +00:00)\n"
          ]
        }
      ]
    },
    {
      "cell_type": "code",
      "source": [
        "from sklearn.model_selection import GridSearchCV\n",
        "from sklearn import svm\n",
        "param_grid=[\n",
        "            {'C':[1,10,100,1000],'kernel':['linear']},\n",
        "            {'C':[1,10,100,1000],'gamma':[0.001,0.0001],'kernel':['rbf']},\n",
        "]\n",
        "svc=svm.SVC(probability=True)\n",
        "clf=GridSearchCV(svc,param_grid)\n",
        "clf.fit(x_train,y_train)"
      ],
      "metadata": {
        "colab": {
          "base_uri": "https://localhost:8080/",
          "height": 152
        },
        "id": "xNmhK5QhP23n",
        "outputId": "5157cf34-f5f7-435e-9b1e-9468a6e956a3"
      },
      "execution_count": null,
      "outputs": [
        {
          "output_type": "execute_result",
          "data": {
            "text/plain": [
              "GridSearchCV(estimator=SVC(probability=True),\n",
              "             param_grid=[{'C': [1, 10, 100, 1000], 'kernel': ['linear']},\n",
              "                         {'C': [1, 10, 100, 1000], 'gamma': [0.001, 0.0001],\n",
              "                          'kernel': ['rbf']}])"
            ],
            "text/html": [
              "<style>#sk-container-id-1 {\n",
              "  /* Definition of color scheme common for light and dark mode */\n",
              "  --sklearn-color-text: black;\n",
              "  --sklearn-color-line: gray;\n",
              "  /* Definition of color scheme for unfitted estimators */\n",
              "  --sklearn-color-unfitted-level-0: #fff5e6;\n",
              "  --sklearn-color-unfitted-level-1: #f6e4d2;\n",
              "  --sklearn-color-unfitted-level-2: #ffe0b3;\n",
              "  --sklearn-color-unfitted-level-3: chocolate;\n",
              "  /* Definition of color scheme for fitted estimators */\n",
              "  --sklearn-color-fitted-level-0: #f0f8ff;\n",
              "  --sklearn-color-fitted-level-1: #d4ebff;\n",
              "  --sklearn-color-fitted-level-2: #b3dbfd;\n",
              "  --sklearn-color-fitted-level-3: cornflowerblue;\n",
              "\n",
              "  /* Specific color for light theme */\n",
              "  --sklearn-color-text-on-default-background: var(--sg-text-color, var(--theme-code-foreground, var(--jp-content-font-color1, black)));\n",
              "  --sklearn-color-background: var(--sg-background-color, var(--theme-background, var(--jp-layout-color0, white)));\n",
              "  --sklearn-color-border-box: var(--sg-text-color, var(--theme-code-foreground, var(--jp-content-font-color1, black)));\n",
              "  --sklearn-color-icon: #696969;\n",
              "\n",
              "  @media (prefers-color-scheme: dark) {\n",
              "    /* Redefinition of color scheme for dark theme */\n",
              "    --sklearn-color-text-on-default-background: var(--sg-text-color, var(--theme-code-foreground, var(--jp-content-font-color1, white)));\n",
              "    --sklearn-color-background: var(--sg-background-color, var(--theme-background, var(--jp-layout-color0, #111)));\n",
              "    --sklearn-color-border-box: var(--sg-text-color, var(--theme-code-foreground, var(--jp-content-font-color1, white)));\n",
              "    --sklearn-color-icon: #878787;\n",
              "  }\n",
              "}\n",
              "\n",
              "#sk-container-id-1 {\n",
              "  color: var(--sklearn-color-text);\n",
              "}\n",
              "\n",
              "#sk-container-id-1 pre {\n",
              "  padding: 0;\n",
              "}\n",
              "\n",
              "#sk-container-id-1 input.sk-hidden--visually {\n",
              "  border: 0;\n",
              "  clip: rect(1px 1px 1px 1px);\n",
              "  clip: rect(1px, 1px, 1px, 1px);\n",
              "  height: 1px;\n",
              "  margin: -1px;\n",
              "  overflow: hidden;\n",
              "  padding: 0;\n",
              "  position: absolute;\n",
              "  width: 1px;\n",
              "}\n",
              "\n",
              "#sk-container-id-1 div.sk-dashed-wrapped {\n",
              "  border: 1px dashed var(--sklearn-color-line);\n",
              "  margin: 0 0.4em 0.5em 0.4em;\n",
              "  box-sizing: border-box;\n",
              "  padding-bottom: 0.4em;\n",
              "  background-color: var(--sklearn-color-background);\n",
              "}\n",
              "\n",
              "#sk-container-id-1 div.sk-container {\n",
              "  /* jupyter's `normalize.less` sets `[hidden] { display: none; }`\n",
              "     but bootstrap.min.css set `[hidden] { display: none !important; }`\n",
              "     so we also need the `!important` here to be able to override the\n",
              "     default hidden behavior on the sphinx rendered scikit-learn.org.\n",
              "     See: https://github.com/scikit-learn/scikit-learn/issues/21755 */\n",
              "  display: inline-block !important;\n",
              "  position: relative;\n",
              "}\n",
              "\n",
              "#sk-container-id-1 div.sk-text-repr-fallback {\n",
              "  display: none;\n",
              "}\n",
              "\n",
              "div.sk-parallel-item,\n",
              "div.sk-serial,\n",
              "div.sk-item {\n",
              "  /* draw centered vertical line to link estimators */\n",
              "  background-image: linear-gradient(var(--sklearn-color-text-on-default-background), var(--sklearn-color-text-on-default-background));\n",
              "  background-size: 2px 100%;\n",
              "  background-repeat: no-repeat;\n",
              "  background-position: center center;\n",
              "}\n",
              "\n",
              "/* Parallel-specific style estimator block */\n",
              "\n",
              "#sk-container-id-1 div.sk-parallel-item::after {\n",
              "  content: \"\";\n",
              "  width: 100%;\n",
              "  border-bottom: 2px solid var(--sklearn-color-text-on-default-background);\n",
              "  flex-grow: 1;\n",
              "}\n",
              "\n",
              "#sk-container-id-1 div.sk-parallel {\n",
              "  display: flex;\n",
              "  align-items: stretch;\n",
              "  justify-content: center;\n",
              "  background-color: var(--sklearn-color-background);\n",
              "  position: relative;\n",
              "}\n",
              "\n",
              "#sk-container-id-1 div.sk-parallel-item {\n",
              "  display: flex;\n",
              "  flex-direction: column;\n",
              "}\n",
              "\n",
              "#sk-container-id-1 div.sk-parallel-item:first-child::after {\n",
              "  align-self: flex-end;\n",
              "  width: 50%;\n",
              "}\n",
              "\n",
              "#sk-container-id-1 div.sk-parallel-item:last-child::after {\n",
              "  align-self: flex-start;\n",
              "  width: 50%;\n",
              "}\n",
              "\n",
              "#sk-container-id-1 div.sk-parallel-item:only-child::after {\n",
              "  width: 0;\n",
              "}\n",
              "\n",
              "/* Serial-specific style estimator block */\n",
              "\n",
              "#sk-container-id-1 div.sk-serial {\n",
              "  display: flex;\n",
              "  flex-direction: column;\n",
              "  align-items: center;\n",
              "  background-color: var(--sklearn-color-background);\n",
              "  padding-right: 1em;\n",
              "  padding-left: 1em;\n",
              "}\n",
              "\n",
              "\n",
              "/* Toggleable style: style used for estimator/Pipeline/ColumnTransformer box that is\n",
              "clickable and can be expanded/collapsed.\n",
              "- Pipeline and ColumnTransformer use this feature and define the default style\n",
              "- Estimators will overwrite some part of the style using the `sk-estimator` class\n",
              "*/\n",
              "\n",
              "/* Pipeline and ColumnTransformer style (default) */\n",
              "\n",
              "#sk-container-id-1 div.sk-toggleable {\n",
              "  /* Default theme specific background. It is overwritten whether we have a\n",
              "  specific estimator or a Pipeline/ColumnTransformer */\n",
              "  background-color: var(--sklearn-color-background);\n",
              "}\n",
              "\n",
              "/* Toggleable label */\n",
              "#sk-container-id-1 label.sk-toggleable__label {\n",
              "  cursor: pointer;\n",
              "  display: block;\n",
              "  width: 100%;\n",
              "  margin-bottom: 0;\n",
              "  padding: 0.5em;\n",
              "  box-sizing: border-box;\n",
              "  text-align: center;\n",
              "}\n",
              "\n",
              "#sk-container-id-1 label.sk-toggleable__label-arrow:before {\n",
              "  /* Arrow on the left of the label */\n",
              "  content: \"▸\";\n",
              "  float: left;\n",
              "  margin-right: 0.25em;\n",
              "  color: var(--sklearn-color-icon);\n",
              "}\n",
              "\n",
              "#sk-container-id-1 label.sk-toggleable__label-arrow:hover:before {\n",
              "  color: var(--sklearn-color-text);\n",
              "}\n",
              "\n",
              "/* Toggleable content - dropdown */\n",
              "\n",
              "#sk-container-id-1 div.sk-toggleable__content {\n",
              "  max-height: 0;\n",
              "  max-width: 0;\n",
              "  overflow: hidden;\n",
              "  text-align: left;\n",
              "  /* unfitted */\n",
              "  background-color: var(--sklearn-color-unfitted-level-0);\n",
              "}\n",
              "\n",
              "#sk-container-id-1 div.sk-toggleable__content.fitted {\n",
              "  /* fitted */\n",
              "  background-color: var(--sklearn-color-fitted-level-0);\n",
              "}\n",
              "\n",
              "#sk-container-id-1 div.sk-toggleable__content pre {\n",
              "  margin: 0.2em;\n",
              "  border-radius: 0.25em;\n",
              "  color: var(--sklearn-color-text);\n",
              "  /* unfitted */\n",
              "  background-color: var(--sklearn-color-unfitted-level-0);\n",
              "}\n",
              "\n",
              "#sk-container-id-1 div.sk-toggleable__content.fitted pre {\n",
              "  /* unfitted */\n",
              "  background-color: var(--sklearn-color-fitted-level-0);\n",
              "}\n",
              "\n",
              "#sk-container-id-1 input.sk-toggleable__control:checked~div.sk-toggleable__content {\n",
              "  /* Expand drop-down */\n",
              "  max-height: 200px;\n",
              "  max-width: 100%;\n",
              "  overflow: auto;\n",
              "}\n",
              "\n",
              "#sk-container-id-1 input.sk-toggleable__control:checked~label.sk-toggleable__label-arrow:before {\n",
              "  content: \"▾\";\n",
              "}\n",
              "\n",
              "/* Pipeline/ColumnTransformer-specific style */\n",
              "\n",
              "#sk-container-id-1 div.sk-label input.sk-toggleable__control:checked~label.sk-toggleable__label {\n",
              "  color: var(--sklearn-color-text);\n",
              "  background-color: var(--sklearn-color-unfitted-level-2);\n",
              "}\n",
              "\n",
              "#sk-container-id-1 div.sk-label.fitted input.sk-toggleable__control:checked~label.sk-toggleable__label {\n",
              "  background-color: var(--sklearn-color-fitted-level-2);\n",
              "}\n",
              "\n",
              "/* Estimator-specific style */\n",
              "\n",
              "/* Colorize estimator box */\n",
              "#sk-container-id-1 div.sk-estimator input.sk-toggleable__control:checked~label.sk-toggleable__label {\n",
              "  /* unfitted */\n",
              "  background-color: var(--sklearn-color-unfitted-level-2);\n",
              "}\n",
              "\n",
              "#sk-container-id-1 div.sk-estimator.fitted input.sk-toggleable__control:checked~label.sk-toggleable__label {\n",
              "  /* fitted */\n",
              "  background-color: var(--sklearn-color-fitted-level-2);\n",
              "}\n",
              "\n",
              "#sk-container-id-1 div.sk-label label.sk-toggleable__label,\n",
              "#sk-container-id-1 div.sk-label label {\n",
              "  /* The background is the default theme color */\n",
              "  color: var(--sklearn-color-text-on-default-background);\n",
              "}\n",
              "\n",
              "/* On hover, darken the color of the background */\n",
              "#sk-container-id-1 div.sk-label:hover label.sk-toggleable__label {\n",
              "  color: var(--sklearn-color-text);\n",
              "  background-color: var(--sklearn-color-unfitted-level-2);\n",
              "}\n",
              "\n",
              "/* Label box, darken color on hover, fitted */\n",
              "#sk-container-id-1 div.sk-label.fitted:hover label.sk-toggleable__label.fitted {\n",
              "  color: var(--sklearn-color-text);\n",
              "  background-color: var(--sklearn-color-fitted-level-2);\n",
              "}\n",
              "\n",
              "/* Estimator label */\n",
              "\n",
              "#sk-container-id-1 div.sk-label label {\n",
              "  font-family: monospace;\n",
              "  font-weight: bold;\n",
              "  display: inline-block;\n",
              "  line-height: 1.2em;\n",
              "}\n",
              "\n",
              "#sk-container-id-1 div.sk-label-container {\n",
              "  text-align: center;\n",
              "}\n",
              "\n",
              "/* Estimator-specific */\n",
              "#sk-container-id-1 div.sk-estimator {\n",
              "  font-family: monospace;\n",
              "  border: 1px dotted var(--sklearn-color-border-box);\n",
              "  border-radius: 0.25em;\n",
              "  box-sizing: border-box;\n",
              "  margin-bottom: 0.5em;\n",
              "  /* unfitted */\n",
              "  background-color: var(--sklearn-color-unfitted-level-0);\n",
              "}\n",
              "\n",
              "#sk-container-id-1 div.sk-estimator.fitted {\n",
              "  /* fitted */\n",
              "  background-color: var(--sklearn-color-fitted-level-0);\n",
              "}\n",
              "\n",
              "/* on hover */\n",
              "#sk-container-id-1 div.sk-estimator:hover {\n",
              "  /* unfitted */\n",
              "  background-color: var(--sklearn-color-unfitted-level-2);\n",
              "}\n",
              "\n",
              "#sk-container-id-1 div.sk-estimator.fitted:hover {\n",
              "  /* fitted */\n",
              "  background-color: var(--sklearn-color-fitted-level-2);\n",
              "}\n",
              "\n",
              "/* Specification for estimator info (e.g. \"i\" and \"?\") */\n",
              "\n",
              "/* Common style for \"i\" and \"?\" */\n",
              "\n",
              ".sk-estimator-doc-link,\n",
              "a:link.sk-estimator-doc-link,\n",
              "a:visited.sk-estimator-doc-link {\n",
              "  float: right;\n",
              "  font-size: smaller;\n",
              "  line-height: 1em;\n",
              "  font-family: monospace;\n",
              "  background-color: var(--sklearn-color-background);\n",
              "  border-radius: 1em;\n",
              "  height: 1em;\n",
              "  width: 1em;\n",
              "  text-decoration: none !important;\n",
              "  margin-left: 1ex;\n",
              "  /* unfitted */\n",
              "  border: var(--sklearn-color-unfitted-level-1) 1pt solid;\n",
              "  color: var(--sklearn-color-unfitted-level-1);\n",
              "}\n",
              "\n",
              ".sk-estimator-doc-link.fitted,\n",
              "a:link.sk-estimator-doc-link.fitted,\n",
              "a:visited.sk-estimator-doc-link.fitted {\n",
              "  /* fitted */\n",
              "  border: var(--sklearn-color-fitted-level-1) 1pt solid;\n",
              "  color: var(--sklearn-color-fitted-level-1);\n",
              "}\n",
              "\n",
              "/* On hover */\n",
              "div.sk-estimator:hover .sk-estimator-doc-link:hover,\n",
              ".sk-estimator-doc-link:hover,\n",
              "div.sk-label-container:hover .sk-estimator-doc-link:hover,\n",
              ".sk-estimator-doc-link:hover {\n",
              "  /* unfitted */\n",
              "  background-color: var(--sklearn-color-unfitted-level-3);\n",
              "  color: var(--sklearn-color-background);\n",
              "  text-decoration: none;\n",
              "}\n",
              "\n",
              "div.sk-estimator.fitted:hover .sk-estimator-doc-link.fitted:hover,\n",
              ".sk-estimator-doc-link.fitted:hover,\n",
              "div.sk-label-container:hover .sk-estimator-doc-link.fitted:hover,\n",
              ".sk-estimator-doc-link.fitted:hover {\n",
              "  /* fitted */\n",
              "  background-color: var(--sklearn-color-fitted-level-3);\n",
              "  color: var(--sklearn-color-background);\n",
              "  text-decoration: none;\n",
              "}\n",
              "\n",
              "/* Span, style for the box shown on hovering the info icon */\n",
              ".sk-estimator-doc-link span {\n",
              "  display: none;\n",
              "  z-index: 9999;\n",
              "  position: relative;\n",
              "  font-weight: normal;\n",
              "  right: .2ex;\n",
              "  padding: .5ex;\n",
              "  margin: .5ex;\n",
              "  width: min-content;\n",
              "  min-width: 20ex;\n",
              "  max-width: 50ex;\n",
              "  color: var(--sklearn-color-text);\n",
              "  box-shadow: 2pt 2pt 4pt #999;\n",
              "  /* unfitted */\n",
              "  background: var(--sklearn-color-unfitted-level-0);\n",
              "  border: .5pt solid var(--sklearn-color-unfitted-level-3);\n",
              "}\n",
              "\n",
              ".sk-estimator-doc-link.fitted span {\n",
              "  /* fitted */\n",
              "  background: var(--sklearn-color-fitted-level-0);\n",
              "  border: var(--sklearn-color-fitted-level-3);\n",
              "}\n",
              "\n",
              ".sk-estimator-doc-link:hover span {\n",
              "  display: block;\n",
              "}\n",
              "\n",
              "/* \"?\"-specific style due to the `<a>` HTML tag */\n",
              "\n",
              "#sk-container-id-1 a.estimator_doc_link {\n",
              "  float: right;\n",
              "  font-size: 1rem;\n",
              "  line-height: 1em;\n",
              "  font-family: monospace;\n",
              "  background-color: var(--sklearn-color-background);\n",
              "  border-radius: 1rem;\n",
              "  height: 1rem;\n",
              "  width: 1rem;\n",
              "  text-decoration: none;\n",
              "  /* unfitted */\n",
              "  color: var(--sklearn-color-unfitted-level-1);\n",
              "  border: var(--sklearn-color-unfitted-level-1) 1pt solid;\n",
              "}\n",
              "\n",
              "#sk-container-id-1 a.estimator_doc_link.fitted {\n",
              "  /* fitted */\n",
              "  border: var(--sklearn-color-fitted-level-1) 1pt solid;\n",
              "  color: var(--sklearn-color-fitted-level-1);\n",
              "}\n",
              "\n",
              "/* On hover */\n",
              "#sk-container-id-1 a.estimator_doc_link:hover {\n",
              "  /* unfitted */\n",
              "  background-color: var(--sklearn-color-unfitted-level-3);\n",
              "  color: var(--sklearn-color-background);\n",
              "  text-decoration: none;\n",
              "}\n",
              "\n",
              "#sk-container-id-1 a.estimator_doc_link.fitted:hover {\n",
              "  /* fitted */\n",
              "  background-color: var(--sklearn-color-fitted-level-3);\n",
              "}\n",
              "</style><div id=\"sk-container-id-1\" class=\"sk-top-container\"><div class=\"sk-text-repr-fallback\"><pre>GridSearchCV(estimator=SVC(probability=True),\n",
              "             param_grid=[{&#x27;C&#x27;: [1, 10, 100, 1000], &#x27;kernel&#x27;: [&#x27;linear&#x27;]},\n",
              "                         {&#x27;C&#x27;: [1, 10, 100, 1000], &#x27;gamma&#x27;: [0.001, 0.0001],\n",
              "                          &#x27;kernel&#x27;: [&#x27;rbf&#x27;]}])</pre><b>In a Jupyter environment, please rerun this cell to show the HTML representation or trust the notebook. <br />On GitHub, the HTML representation is unable to render, please try loading this page with nbviewer.org.</b></div><div class=\"sk-container\" hidden><div class=\"sk-item sk-dashed-wrapped\"><div class=\"sk-label-container\"><div class=\"sk-label fitted sk-toggleable\"><input class=\"sk-toggleable__control sk-hidden--visually\" id=\"sk-estimator-id-1\" type=\"checkbox\" ><label for=\"sk-estimator-id-1\" class=\"sk-toggleable__label fitted sk-toggleable__label-arrow fitted\">&nbsp;&nbsp;GridSearchCV<a class=\"sk-estimator-doc-link fitted\" rel=\"noreferrer\" target=\"_blank\" href=\"https://scikit-learn.org/1.4/modules/generated/sklearn.model_selection.GridSearchCV.html\">?<span>Documentation for GridSearchCV</span></a><span class=\"sk-estimator-doc-link fitted\">i<span>Fitted</span></span></label><div class=\"sk-toggleable__content fitted\"><pre>GridSearchCV(estimator=SVC(probability=True),\n",
              "             param_grid=[{&#x27;C&#x27;: [1, 10, 100, 1000], &#x27;kernel&#x27;: [&#x27;linear&#x27;]},\n",
              "                         {&#x27;C&#x27;: [1, 10, 100, 1000], &#x27;gamma&#x27;: [0.001, 0.0001],\n",
              "                          &#x27;kernel&#x27;: [&#x27;rbf&#x27;]}])</pre></div> </div></div><div class=\"sk-parallel\"><div class=\"sk-parallel-item\"><div class=\"sk-item\"><div class=\"sk-label-container\"><div class=\"sk-label fitted sk-toggleable\"><input class=\"sk-toggleable__control sk-hidden--visually\" id=\"sk-estimator-id-2\" type=\"checkbox\" ><label for=\"sk-estimator-id-2\" class=\"sk-toggleable__label fitted sk-toggleable__label-arrow fitted\">estimator: SVC</label><div class=\"sk-toggleable__content fitted\"><pre>SVC(probability=True)</pre></div> </div></div><div class=\"sk-serial\"><div class=\"sk-item\"><div class=\"sk-estimator fitted sk-toggleable\"><input class=\"sk-toggleable__control sk-hidden--visually\" id=\"sk-estimator-id-3\" type=\"checkbox\" ><label for=\"sk-estimator-id-3\" class=\"sk-toggleable__label fitted sk-toggleable__label-arrow fitted\">&nbsp;SVC<a class=\"sk-estimator-doc-link fitted\" rel=\"noreferrer\" target=\"_blank\" href=\"https://scikit-learn.org/1.4/modules/generated/sklearn.svm.SVC.html\">?<span>Documentation for SVC</span></a></label><div class=\"sk-toggleable__content fitted\"><pre>SVC(probability=True)</pre></div> </div></div></div></div></div></div></div></div></div>"
            ]
          },
          "metadata": {},
          "execution_count": 25
        },
        {
          "output_type": "stream",
          "name": "stdout",
          "text": [
            "time: 59.7 s (started: 2024-04-24 11:00:21 +00:00)\n"
          ]
        }
      ]
    },
    {
      "cell_type": "code",
      "source": [
        "y_pred=clf.predict(x_test)\n",
        "y_pred"
      ],
      "metadata": {
        "colab": {
          "base_uri": "https://localhost:8080/"
        },
        "id": "riq3Ofv1QHtR",
        "outputId": "c805e03d-c3a5-44b7-a14f-48dfd14ccbaf"
      },
      "execution_count": null,
      "outputs": [
        {
          "output_type": "execute_result",
          "data": {
            "text/plain": [
              "array([1, 2, 0, 1, 1, 1, 0, 1, 1, 0, 2, 1, 1, 2, 2, 1, 1, 2, 1, 2, 2, 2,\n",
              "       1, 1, 1, 0, 1])"
            ]
          },
          "metadata": {},
          "execution_count": 26
        },
        {
          "output_type": "stream",
          "name": "stdout",
          "text": [
            "time: 210 ms (started: 2024-04-24 11:01:25 +00:00)\n"
          ]
        }
      ]
    },
    {
      "cell_type": "code",
      "source": [
        "y_test"
      ],
      "metadata": {
        "colab": {
          "base_uri": "https://localhost:8080/"
        },
        "id": "v5v7hxqQQLvK",
        "outputId": "64033ac5-f187-4ca2-f1db-6a7bc21ed53a"
      },
      "execution_count": null,
      "outputs": [
        {
          "output_type": "execute_result",
          "data": {
            "text/plain": [
              "array([1, 0, 1, 2, 2, 1, 0, 1, 1, 0, 1, 0, 1, 2, 2, 1, 2, 1, 0, 1, 2, 2,\n",
              "       2, 0, 0, 0, 1])"
            ]
          },
          "metadata": {},
          "execution_count": 27
        },
        {
          "output_type": "stream",
          "name": "stdout",
          "text": [
            "time: 4.4 ms (started: 2024-04-24 11:01:29 +00:00)\n"
          ]
        }
      ]
    },
    {
      "cell_type": "code",
      "source": [
        "from sklearn.metrics import accuracy_score,confusion_matrix"
      ],
      "metadata": {
        "colab": {
          "base_uri": "https://localhost:8080/"
        },
        "id": "h5NejI7wQOct",
        "outputId": "922455ef-aafb-4d12-a463-316360892f77"
      },
      "execution_count": null,
      "outputs": [
        {
          "output_type": "stream",
          "name": "stdout",
          "text": [
            "time: 706 µs (started: 2024-04-24 11:01:37 +00:00)\n"
          ]
        }
      ]
    },
    {
      "cell_type": "code",
      "source": [
        "accuracy_score(y_pred,y_test)"
      ],
      "metadata": {
        "colab": {
          "base_uri": "https://localhost:8080/"
        },
        "id": "THRXUcilQQH7",
        "outputId": "60b461b5-0e92-4e3a-b8cf-5571ec2429bc"
      },
      "execution_count": null,
      "outputs": [
        {
          "output_type": "execute_result",
          "data": {
            "text/plain": [
              "0.5185185185185185"
            ]
          },
          "metadata": {},
          "execution_count": 29
        },
        {
          "output_type": "stream",
          "name": "stdout",
          "text": [
            "time: 4.8 ms (started: 2024-04-24 11:01:41 +00:00)\n"
          ]
        }
      ]
    },
    {
      "cell_type": "code",
      "source": [
        "confusion_matrix(y_pred,y_test)"
      ],
      "metadata": {
        "colab": {
          "base_uri": "https://localhost:8080/"
        },
        "id": "8gKO4gy0QUdn",
        "outputId": "85ef6013-917a-4072-eca8-38471ff87ac4"
      },
      "execution_count": null,
      "outputs": [
        {
          "output_type": "execute_result",
          "data": {
            "text/plain": [
              "array([[3, 1, 0],\n",
              "       [4, 7, 4],\n",
              "       [1, 3, 4]])"
            ]
          },
          "metadata": {},
          "execution_count": 30
        },
        {
          "output_type": "stream",
          "name": "stdout",
          "text": [
            "time: 11.8 ms (started: 2024-04-24 11:01:47 +00:00)\n"
          ]
        }
      ]
    },
    {
      "cell_type": "code",
      "source": [
        "import pickle\n",
        "pickle.dump(clf,open('img_model.p','wb'))"
      ],
      "metadata": {
        "colab": {
          "base_uri": "https://localhost:8080/"
        },
        "id": "b42jqBLcQYiy",
        "outputId": "dfed6a88-6bc1-4e08-8320-9d7bc2d4b665"
      },
      "execution_count": null,
      "outputs": [
        {
          "output_type": "stream",
          "name": "stdout",
          "text": [
            "time: 240 ms (started: 2024-04-24 11:01:53 +00:00)\n"
          ]
        }
      ]
    },
    {
      "cell_type": "code",
      "source": [
        "model=pickle.load(open('img_model.p','rb'))"
      ],
      "metadata": {
        "colab": {
          "base_uri": "https://localhost:8080/"
        },
        "id": "zF3S2uQjQbDW",
        "outputId": "94c6122d-2aa2-48bb-9f6a-3c00e2ccb93a"
      },
      "execution_count": null,
      "outputs": [
        {
          "output_type": "stream",
          "name": "stdout",
          "text": [
            "time: 12.7 ms (started: 2024-04-24 11:01:58 +00:00)\n"
          ]
        }
      ]
    },
    {
      "cell_type": "code",
      "source": [
        "flat_data=[]\n",
        "url=input('Enter your URL')\n",
        "img=imread(url)\n",
        "img_resized=resize(img,(150,150,3))\n",
        "flat_data.append(img_resized.flatten())\n",
        "flat_data=np.array(flat_data)\n",
        "print(img.shape)\n",
        "plt.imshow(img_resized)\n",
        "y_out=model.predict(flat_data)\n",
        "y_out=CATEGORIES[y_out[0]]\n",
        "print(f'PREDICTED OUTPUT: {y_out}')"
      ],
      "metadata": {
        "colab": {
          "base_uri": "https://localhost:8080/",
          "height": 503
        },
        "id": "eos9ZiPwQgZI",
        "outputId": "09e3b377-0b89-4bf5-e9ac-4c32c2fafcbd"
      },
      "execution_count": null,
      "outputs": [
        {
          "output_type": "stream",
          "name": "stdout",
          "text": [
            "Enter your URLhttps://encrypted-tbn0.gstatic.com/images?q=tbn:ANd9GcT61dOQAqysl3ryzrUvUWFcfRdy9HBXYTXEuNVzhMc9JQ&s\n",
            "(176, 286, 3)\n",
            "PREDICTED OUTPUT: pushup\n"
          ]
        },
        {
          "output_type": "display_data",
          "data": {
            "text/plain": [
              "<Figure size 640x480 with 1 Axes>"
            ],
            "image/png": "[encoded data removed]"
          },
          "metadata": {}
        },
        {
          "output_type": "stream",
          "name": "stdout",
          "text": [
            "time: 14.8 s (started: 2024-04-24 11:02:06 +00:00)\n"
          ]
        }
      ]
    },
    {
      "cell_type": "code",
      "source": [
        "!pip install seaborn"
      ],
      "metadata": {
        "colab": {
          "base_uri": "https://localhost:8080/"
        },
        "id": "R1aPJ03rpaSB",
        "outputId": "92fe2a23-31f6-4a9c-9e32-41e3b8a7b399"
      },
      "execution_count": null,
      "outputs": [
        {
          "output_type": "stream",
          "name": "stdout",
          "text": [
            "Requirement already satisfied: seaborn in /usr/local/lib/python3.10/dist-packages (0.13.1)\n",
            "Requirement already satisfied: numpy!=1.24.0,>=1.20 in /usr/local/lib/python3.10/dist-packages (from seaborn) (1.25.2)\n",
            "Requirement already satisfied: pandas>=1.2 in /usr/local/lib/python3.10/dist-packages (from seaborn) (2.0.3)\n",
            "Requirement already satisfied: matplotlib!=3.6.1,>=3.4 in /usr/local/lib/python3.10/dist-packages (from seaborn) (3.7.1)\n",
            "Requirement already satisfied: contourpy>=1.0.1 in /usr/local/lib/python3.10/dist-packages (from matplotlib!=3.6.1,>=3.4->seaborn) (1.2.1)\n",
            "Requirement already satisfied: cycler>=0.10 in /usr/local/lib/python3.10/dist-packages (from matplotlib!=3.6.1,>=3.4->seaborn) (0.12.1)\n",
            "Requirement already satisfied: fonttools>=4.22.0 in /usr/local/lib/python3.10/dist-packages (from matplotlib!=3.6.1,>=3.4->seaborn) (4.51.0)\n",
            "Requirement already satisfied: kiwisolver>=1.0.1 in /usr/local/lib/python3.10/dist-packages (from matplotlib!=3.6.1,>=3.4->seaborn) (1.4.5)\n",
            "Requirement already satisfied: packaging>=20.0 in /usr/local/lib/python3.10/dist-packages (from matplotlib!=3.6.1,>=3.4->seaborn) (24.0)\n",
            "Requirement already satisfied: pillow>=6.2.0 in /usr/local/lib/python3.10/dist-packages (from matplotlib!=3.6.1,>=3.4->seaborn) (9.4.0)\n",
            "Requirement already satisfied: pyparsing>=2.3.1 in /usr/local/lib/python3.10/dist-packages (from matplotlib!=3.6.1,>=3.4->seaborn) (3.1.2)\n",
            "Requirement already satisfied: python-dateutil>=2.7 in /usr/local/lib/python3.10/dist-packages (from matplotlib!=3.6.1,>=3.4->seaborn) (2.8.2)\n",
            "Requirement already satisfied: pytz>=2020.1 in /usr/local/lib/python3.10/dist-packages (from pandas>=1.2->seaborn) (2023.4)\n",
            "Requirement already satisfied: tzdata>=2022.1 in /usr/local/lib/python3.10/dist-packages (from pandas>=1.2->seaborn) (2024.1)\n",
            "Requirement already satisfied: six>=1.5 in /usr/local/lib/python3.10/dist-packages (from python-dateutil>=2.7->matplotlib!=3.6.1,>=3.4->seaborn) (1.16.0)\n",
            "time: 7.26 s (started: 2024-04-24 10:27:49 +00:00)\n"
          ]
        }
      ]
    },
    {
      "cell_type": "code",
      "source": [
        "!pip install scikit-learn"
      ],
      "metadata": {
        "colab": {
          "base_uri": "https://localhost:8080/"
        },
        "id": "ksXfjMfGq7PB",
        "outputId": "6974500c-3245-46a6-d1c1-acd017a64e25"
      },
      "execution_count": null,
      "outputs": [
        {
          "output_type": "stream",
          "name": "stdout",
          "text": [
            "Requirement already satisfied: scikit-learn in /usr/local/lib/python3.10/dist-packages (1.2.2)\n",
            "Requirement already satisfied: numpy>=1.17.3 in /usr/local/lib/python3.10/dist-packages (from scikit-learn) (1.25.2)\n",
            "Requirement already satisfied: scipy>=1.3.2 in /usr/local/lib/python3.10/dist-packages (from scikit-learn) (1.11.4)\n",
            "Requirement already satisfied: joblib>=1.1.1 in /usr/local/lib/python3.10/dist-packages (from scikit-learn) (1.4.0)\n",
            "Requirement already satisfied: threadpoolctl>=2.0.0 in /usr/local/lib/python3.10/dist-packages (from scikit-learn) (3.4.0)\n",
            "time: 9.15 s (started: 2024-04-24 10:34:32 +00:00)\n"
          ]
        }
      ]
    },
    {
      "cell_type": "code",
      "source": [
        "!pip install --upgrade scikit-learn"
      ],
      "metadata": {
        "colab": {
          "base_uri": "https://localhost:8080/",
          "height": 373
        },
        "id": "tM9TN1VNrJET",
        "outputId": "49e18563-53aa-409f-e369-b6f4557e1246"
      },
      "execution_count": null,
      "outputs": [
        {
          "output_type": "stream",
          "name": "stdout",
          "text": [
            "Requirement already satisfied: scikit-learn in /usr/local/lib/python3.10/dist-packages (1.2.2)\n",
            "Collecting scikit-learn\n",
            "  Downloading scikit_learn-1.4.2-cp310-cp310-manylinux_2_17_x86_64.manylinux2014_x86_64.whl (12.1 MB)\n",
            "\u001b[2K     \u001b[90m━━━━━━━━━━━━━━━━━━━━━━━━━━━━━━━━━━━━━━━━\u001b[0m \u001b[32m12.1/12.1 MB\u001b[0m \u001b[31m63.0 MB/s\u001b[0m eta \u001b[36m0:00:00\u001b[0m\n",
            "\u001b[?25hRequirement already satisfied: numpy>=1.19.5 in /usr/local/lib/python3.10/dist-packages (from scikit-learn) (1.25.2)\n",
            "Requirement already satisfied: scipy>=1.6.0 in /usr/local/lib/python3.10/dist-packages (from scikit-learn) (1.11.4)\n",
            "Requirement already satisfied: joblib>=1.2.0 in /usr/local/lib/python3.10/dist-packages (from scikit-learn) (1.4.0)\n",
            "Requirement already satisfied: threadpoolctl>=2.0.0 in /usr/local/lib/python3.10/dist-packages (from scikit-learn) (3.4.0)\n",
            "Installing collected packages: scikit-learn\n",
            "  Attempting uninstall: scikit-learn\n",
            "    Found existing installation: scikit-learn 1.2.2\n",
            "    Uninstalling scikit-learn-1.2.2:\n",
            "      Successfully uninstalled scikit-learn-1.2.2\n",
            "Successfully installed scikit-learn-1.4.2\n"
          ]
        },
        {
          "output_type": "display_data",
          "data": {
            "application/vnd.colab-display-data+json": {
              "pip_warning": {
                "packages": [
                  "sklearn"
                ]
              },
              "id": "2590d170cf1848a686651c3b373bd287"
            }
          },
          "metadata": {}
        },
        {
          "output_type": "stream",
          "name": "stdout",
          "text": [
            "time: 12.8 s (started: 2024-04-24 10:35:24 +00:00)\n"
          ]
        }
      ]
    },
    {
      "cell_type": "code",
      "source": [
        "import sklearn\n",
        "print(sklearn.__version__)"
      ],
      "metadata": {
        "colab": {
          "base_uri": "https://localhost:8080/"
        },
        "id": "HkzkGNourRon",
        "outputId": "ba7d507c-2aa5-42c5-ea47-dfccdf41a783"
      },
      "execution_count": null,
      "outputs": [
        {
          "output_type": "stream",
          "name": "stdout",
          "text": [
            "1.4.2\n"
          ]
        }
      ]
    },
    {
      "cell_type": "code",
      "source": [
        "!apt-get install python3-sklearn"
      ],
      "metadata": {
        "colab": {
          "base_uri": "https://localhost:8080/"
        },
        "id": "IuJZux6Mr5tP",
        "outputId": "ca8ac5ca-cb14-42d7-ac3b-2aa04b341dd6"
      },
      "execution_count": null,
      "outputs": [
        {
          "output_type": "stream",
          "name": "stdout",
          "text": [
            "Reading package lists... Done\n",
            "Building dependency tree... Done\n",
            "Reading state information... Done\n",
            "The following additional packages will be installed:\n",
            "  fonts-dejavu-core fonts-lyx libimagequant0 liblbfgsb0 libraqm0 libxsimd-dev mailcap mime-support\n",
            "  python-matplotlib-data python3-appdirs python3-attr python3-beniget python3-brotli python3-bs4\n",
            "  python3-chardet python3-cycler python3-dateutil python3-decorator python3-fonttools python3-fs\n",
            "  python3-gast python3-html5lib python3-iniconfig python3-joblib python3-kiwisolver python3-lxml\n",
            "  python3-lz4 python3-matplotlib python3-mpmath python3-nose python3-numpy python3-olefile\n",
            "  python3-packaging python3-pil python3-pil.imagetk python3-pluggy python3-ply python3-psutil\n",
            "  python3-py python3-pygments python3-pytest python3-pythran python3-scipy python3-simplejson\n",
            "  python3-sklearn-lib python3-soupsieve python3-sympy python3-threadpoolctl python3-toml python3-tz\n",
            "  python3-ufolib2 python3-unicodedata2 python3-webencodings unicode-data\n",
            "Suggested packages:\n",
            "  libxsimd-doc python-attr-doc python-cycler-doc python3-genshi python-lxml-doc dvipng\n",
            "  fonts-staypuft ghostscript gir1.2-gtk-3.0 inkscape ipython3 librsvg2-common python-matplotlib-doc\n",
            "  python3-cairocffi python3-gi-cairo python3-gobject python3-pyqt5 python3-sip python3-tornado\n",
            "  texlive-extra-utils texlive-latex-extra python-mpmath-doc python3-gmpy2 python-nose-doc\n",
            "  python-numpy-doc python-pil-doc python-ply-doc python-psutil-doc subversion python-pygments-doc\n",
            "  ttf-bitstream-vera python-scipy-doc python3-dap python-sklearn-doc texlive-fonts-extra\n",
            "  python-sympy-doc\n",
            "The following NEW packages will be installed:\n",
            "  fonts-dejavu-core fonts-lyx libimagequant0 liblbfgsb0 libraqm0 libxsimd-dev mailcap mime-support\n",
            "  python-matplotlib-data python3-appdirs python3-attr python3-beniget python3-brotli python3-bs4\n",
            "  python3-chardet python3-cycler python3-dateutil python3-decorator python3-fonttools python3-fs\n",
            "  python3-gast python3-html5lib python3-iniconfig python3-joblib python3-kiwisolver python3-lxml\n",
            "  python3-lz4 python3-matplotlib python3-mpmath python3-nose python3-numpy python3-olefile\n",
            "  python3-packaging python3-pil python3-pil.imagetk python3-pluggy python3-ply python3-psutil\n",
            "  python3-py python3-pygments python3-pytest python3-pythran python3-scipy python3-simplejson\n",
            "  python3-sklearn python3-sklearn-lib python3-soupsieve python3-sympy python3-threadpoolctl\n",
            "  python3-toml python3-tz python3-ufolib2 python3-unicodedata2 python3-webencodings unicode-data\n",
            "0 upgraded, 55 newly installed, 0 to remove and 45 not upgraded.\n",
            "Need to get 51.3 MB of archives.\n",
            "After this operation, 231 MB of additional disk space will be used.\n",
            "Get:1 http://archive.ubuntu.com/ubuntu jammy/main amd64 fonts-dejavu-core all 2.37-2build1 [1,041 kB]\n",
            "Get:2 http://archive.ubuntu.com/ubuntu jammy/universe amd64 fonts-lyx all 2.3.6-1 [159 kB]\n",
            "Get:3 http://archive.ubuntu.com/ubuntu jammy/main amd64 libimagequant0 amd64 2.17.0-1 [34.6 kB]\n",
            "Get:4 http://archive.ubuntu.com/ubuntu jammy/universe amd64 liblbfgsb0 amd64 3.0+dfsg.3-10 [29.9 kB]\n",
            "Get:5 http://archive.ubuntu.com/ubuntu jammy/main amd64 libraqm0 amd64 0.7.0-4ubuntu1 [11.7 kB]\n",
            "Get:6 http://archive.ubuntu.com/ubuntu jammy/universe amd64 libxsimd-dev amd64 7.6.0-2 [108 kB]\n",
            "Get:7 http://archive.ubuntu.com/ubuntu jammy/main amd64 mailcap all 3.70+nmu1ubuntu1 [23.8 kB]\n",
            "Get:8 http://archive.ubuntu.com/ubuntu jammy/main amd64 mime-support all 3.66 [3,696 B]\n",
            "Get:9 http://archive.ubuntu.com/ubuntu jammy/universe amd64 python-matplotlib-data all 3.5.1-2build1 [2,942 kB]\n",
            "Get:10 http://archive.ubuntu.com/ubuntu jammy/main amd64 python3-appdirs all 1.4.4-2 [11.4 kB]\n",
            "Get:11 http://archive.ubuntu.com/ubuntu jammy/main amd64 python3-attr all 21.2.0-1 [44.0 kB]\n",
            "Get:12 http://archive.ubuntu.com/ubuntu jammy/universe amd64 python3-gast all 0.5.2-2 [9,394 B]\n",
            "Get:13 http://archive.ubuntu.com/ubuntu jammy/universe amd64 python3-beniget all 0.4.1-2 [9,904 B]\n",
            "Get:14 http://archive.ubuntu.com/ubuntu jammy/universe amd64 python3-brotli amd64 1.0.9-2build6 [319 kB]\n",
            "Get:15 http://archive.ubuntu.com/ubuntu jammy/main amd64 python3-soupsieve all 2.3.1-1 [33.0 kB]\n",
            "Get:16 http://archive.ubuntu.com/ubuntu jammy/main amd64 python3-bs4 all 4.10.0-2 [79.1 kB]\n",
            "Get:17 http://archive.ubuntu.com/ubuntu jammy/main amd64 python3-chardet all 4.0.0-1 [98.0 kB]\n",
            "Get:18 http://archive.ubuntu.com/ubuntu jammy/universe amd64 python3-cycler all 0.11.0-1 [8,156 B]\n",
            "Get:19 http://archive.ubuntu.com/ubuntu jammy/main amd64 python3-dateutil all 2.8.1-6 [78.4 kB]\n",
            "Get:20 http://archive.ubuntu.com/ubuntu jammy/main amd64 python3-decorator all 4.4.2-0ubuntu1 [10.3 kB]\n",
            "Get:21 http://archive.ubuntu.com/ubuntu jammy-updates/main amd64 python3-numpy amd64 1:1.21.5-1ubuntu22.04.1 [3,467 kB]\n",
            "Get:22 http://archive.ubuntu.com/ubuntu jammy/main amd64 python3-ply all 3.11-5 [47.5 kB]\n",
            "Get:23 http://archive.ubuntu.com/ubuntu jammy/universe amd64 python3-pythran amd64 0.10.0+ds2-1 [423 kB]\n",
            "Get:24 http://archive.ubuntu.com/ubuntu jammy/universe amd64 python3-scipy amd64 1.8.0-1exp2ubuntu1 [14.7 MB]\n",
            "Get:25 http://archive.ubuntu.com/ubuntu jammy/universe amd64 python3-ufolib2 all 0.13.1+dfsg1-1 [32.2 kB]\n",
            "Get:26 http://archive.ubuntu.com/ubuntu jammy/universe amd64 python3-mpmath all 1.2.1-2 [419 kB]\n",
            "Get:27 http://archive.ubuntu.com/ubuntu jammy/universe amd64 python3-sympy all 1.9-1 [4,312 kB]\n",
            "Get:28 http://archive.ubuntu.com/ubuntu jammy-updates/main amd64 python3-tz all 2022.1-1ubuntu0.22.04.1 [30.7 kB]\n",
            "Get:29 http://archive.ubuntu.com/ubuntu jammy/universe amd64 python3-fs all 2.4.12-1 [84.9 kB]\n",
            "Get:30 http://archive.ubuntu.com/ubuntu jammy/main amd64 python3-lxml amd64 4.8.0-1build1 [1,150 kB]\n",
            "Get:31 http://archive.ubuntu.com/ubuntu jammy/universe amd64 python3-lz4 amd64 3.1.3+dfsg-1build3 [33.3 kB]\n",
            "Get:32 http://archive.ubuntu.com/ubuntu jammy/universe amd64 python3-unicodedata2 amd64 14.0.0+ds-8 [376 kB]\n",
            "Get:33 http://archive.ubuntu.com/ubuntu jammy/universe amd64 unicode-data all 14.0.0-1.1 [8,206 kB]\n",
            "Get:34 http://archive.ubuntu.com/ubuntu jammy/universe amd64 python3-fonttools amd64 4.29.1-2build1 [810 kB]\n",
            "Get:35 http://archive.ubuntu.com/ubuntu jammy/main amd64 python3-webencodings all 0.5.1-4 [11.8 kB]\n",
            "Get:36 http://archive.ubuntu.com/ubuntu jammy/main amd64 python3-html5lib all 1.1-3 [87.0 kB]\n",
            "Get:37 http://archive.ubuntu.com/ubuntu jammy/universe amd64 python3-iniconfig all 1.1.1-2 [6,024 B]\n",
            "Get:38 http://archive.ubuntu.com/ubuntu jammy/universe amd64 python3-joblib all 0.17.0-4ubuntu1 [204 kB]\n",
            "Get:39 http://archive.ubuntu.com/ubuntu jammy/universe amd64 python3-kiwisolver amd64 1.3.2-1build1 [48.0 kB]\n",
            "Get:40 http://archive.ubuntu.com/ubuntu jammy-updates/main amd64 python3-pil amd64 9.0.1-1ubuntu0.3 [419 kB]\n",
            "Get:41 http://archive.ubuntu.com/ubuntu jammy-updates/universe amd64 python3-pil.imagetk amd64 9.0.1-1ubuntu0.3 [9,616 B]\n",
            "Get:42 http://archive.ubuntu.com/ubuntu jammy/main amd64 python3-packaging all 21.3-1 [30.7 kB]\n",
            "Get:43 http://archive.ubuntu.com/ubuntu jammy/universe amd64 python3-matplotlib amd64 3.5.1-2build1 [5,937 kB]\n",
            "Get:44 http://archive.ubuntu.com/ubuntu jammy/universe amd64 python3-nose all 1.3.7-8 [117 kB]\n",
            "Get:45 http://archive.ubuntu.com/ubuntu jammy/main amd64 python3-olefile all 0.46-3 [33.8 kB]\n",
            "Get:46 http://archive.ubuntu.com/ubuntu jammy/universe amd64 python3-pluggy all 0.13.0-7.1 [19.0 kB]\n",
            "Get:47 http://archive.ubuntu.com/ubuntu jammy/main amd64 python3-psutil amd64 5.9.0-1build1 [158 kB]\n",
            "Get:48 http://archive.ubuntu.com/ubuntu jammy/universe amd64 python3-py all 1.10.0-1 [71.9 kB]\n",
            "Get:49 http://archive.ubuntu.com/ubuntu jammy/main amd64 python3-pygments all 2.11.2+dfsg-2 [750 kB]\n",
            "Get:50 http://archive.ubuntu.com/ubuntu jammy/universe amd64 python3-toml all 0.10.2-1 [16.5 kB]\n",
            "Get:51 http://archive.ubuntu.com/ubuntu jammy/universe amd64 python3-pytest all 6.2.5-1ubuntu2 [214 kB]\n",
            "Get:52 http://archive.ubuntu.com/ubuntu jammy/main amd64 python3-simplejson amd64 3.17.6-1build1 [54.7 kB]\n",
            "Get:53 http://archive.ubuntu.com/ubuntu jammy/universe amd64 python3-sklearn-lib amd64 0.23.2-5ubuntu6 [2,058 kB]\n",
            "Get:54 http://archive.ubuntu.com/ubuntu jammy/universe amd64 python3-threadpoolctl all 3.1.0-1 [21.3 kB]\n",
            "Get:55 http://archive.ubuntu.com/ubuntu jammy/universe amd64 python3-sklearn all 0.23.2-5ubuntu6 [1,829 kB]\n",
            "Fetched 51.3 MB in 6s (9,250 kB/s)\n",
            "Extracting templates from packages: 100%\n",
            "Selecting previously unselected package fonts-dejavu-core.\n",
            "(Reading database ... 121752 files and directories currently installed.)\n",
            "Preparing to unpack .../00-fonts-dejavu-core_2.37-2build1_all.deb ...\n",
            "Unpacking fonts-dejavu-core (2.37-2build1) ...\n",
            "Selecting previously unselected package fonts-lyx.\n",
            "Preparing to unpack .../01-fonts-lyx_2.3.6-1_all.deb ...\n",
            "Unpacking fonts-lyx (2.3.6-1) ...\n",
            "Selecting previously unselected package libimagequant0:amd64.\n",
            "Preparing to unpack .../02-libimagequant0_2.17.0-1_amd64.deb ...\n",
            "Unpacking libimagequant0:amd64 (2.17.0-1) ...\n",
            "Selecting previously unselected package liblbfgsb0:amd64.\n",
            "Preparing to unpack .../03-liblbfgsb0_3.0+dfsg.3-10_amd64.deb ...\n",
            "Unpacking liblbfgsb0:amd64 (3.0+dfsg.3-10) ...\n",
            "Selecting previously unselected package libraqm0:amd64.\n",
            "Preparing to unpack .../04-libraqm0_0.7.0-4ubuntu1_amd64.deb ...\n",
            "Unpacking libraqm0:amd64 (0.7.0-4ubuntu1) ...\n",
            "Selecting previously unselected package libxsimd-dev:amd64.\n",
            "Preparing to unpack .../05-libxsimd-dev_7.6.0-2_amd64.deb ...\n",
            "Unpacking libxsimd-dev:amd64 (7.6.0-2) ...\n",
            "Selecting previously unselected package mailcap.\n",
            "Preparing to unpack .../06-mailcap_3.70+nmu1ubuntu1_all.deb ...\n",
            "Unpacking mailcap (3.70+nmu1ubuntu1) ...\n",
            "Selecting previously unselected package mime-support.\n",
            "Preparing to unpack .../07-mime-support_3.66_all.deb ...\n",
            "Unpacking mime-support (3.66) ...\n",
            "Selecting previously unselected package python-matplotlib-data.\n",
            "Preparing to unpack .../08-python-matplotlib-data_3.5.1-2build1_all.deb ...\n",
            "Unpacking python-matplotlib-data (3.5.1-2build1) ...\n",
            "Selecting previously unselected package python3-appdirs.\n",
            "Preparing to unpack .../09-python3-appdirs_1.4.4-2_all.deb ...\n",
            "Unpacking python3-appdirs (1.4.4-2) ...\n",
            "Selecting previously unselected package python3-attr.\n",
            "Preparing to unpack .../10-python3-attr_21.2.0-1_all.deb ...\n",
            "Unpacking python3-attr (21.2.0-1) ...\n",
            "Selecting previously unselected package python3-gast.\n",
            "Preparing to unpack .../11-python3-gast_0.5.2-2_all.deb ...\n",
            "Unpacking python3-gast (0.5.2-2) ...\n",
            "Selecting previously unselected package python3-beniget.\n",
            "Preparing to unpack .../12-python3-beniget_0.4.1-2_all.deb ...\n",
            "Unpacking python3-beniget (0.4.1-2) ...\n",
            "Selecting previously unselected package python3-brotli.\n",
            "Preparing to unpack .../13-python3-brotli_1.0.9-2build6_amd64.deb ...\n",
            "Unpacking python3-brotli (1.0.9-2build6) ...\n",
            "Selecting previously unselected package python3-soupsieve.\n",
            "Preparing to unpack .../14-python3-soupsieve_2.3.1-1_all.deb ...\n",
            "Unpacking python3-soupsieve (2.3.1-1) ...\n",
            "Selecting previously unselected package python3-bs4.\n",
            "Preparing to unpack .../15-python3-bs4_4.10.0-2_all.deb ...\n",
            "Unpacking python3-bs4 (4.10.0-2) ...\n",
            "Selecting previously unselected package python3-chardet.\n",
            "Preparing to unpack .../16-python3-chardet_4.0.0-1_all.deb ...\n",
            "Unpacking python3-chardet (4.0.0-1) ...\n",
            "Selecting previously unselected package python3-cycler.\n",
            "Preparing to unpack .../17-python3-cycler_0.11.0-1_all.deb ...\n",
            "Unpacking python3-cycler (0.11.0-1) ...\n",
            "Selecting previously unselected package python3-dateutil.\n",
            "Preparing to unpack .../18-python3-dateutil_2.8.1-6_all.deb ...\n",
            "Unpacking python3-dateutil (2.8.1-6) ...\n",
            "Selecting previously unselected package python3-decorator.\n",
            "Preparing to unpack .../19-python3-decorator_4.4.2-0ubuntu1_all.deb ...\n",
            "Unpacking python3-decorator (4.4.2-0ubuntu1) ...\n",
            "Selecting previously unselected package python3-numpy.\n",
            "Preparing to unpack .../20-python3-numpy_1%3a1.21.5-1ubuntu22.04.1_amd64.deb ...\n",
            "Unpacking python3-numpy (1:1.21.5-1ubuntu22.04.1) ...\n",
            "Selecting previously unselected package python3-ply.\n",
            "Preparing to unpack .../21-python3-ply_3.11-5_all.deb ...\n",
            "Unpacking python3-ply (3.11-5) ...\n",
            "Selecting previously unselected package python3-pythran.\n",
            "Preparing to unpack .../22-python3-pythran_0.10.0+ds2-1_amd64.deb ...\n",
            "Unpacking python3-pythran (0.10.0+ds2-1) ...\n",
            "Selecting previously unselected package python3-scipy.\n",
            "Preparing to unpack .../23-python3-scipy_1.8.0-1exp2ubuntu1_amd64.deb ...\n",
            "Unpacking python3-scipy (1.8.0-1exp2ubuntu1) ...\n",
            "Selecting previously unselected package python3-ufolib2.\n",
            "Preparing to unpack .../24-python3-ufolib2_0.13.1+dfsg1-1_all.deb ...\n",
            "Unpacking python3-ufolib2 (0.13.1+dfsg1-1) ...\n",
            "Selecting previously unselected package python3-mpmath.\n",
            "Preparing to unpack .../25-python3-mpmath_1.2.1-2_all.deb ...\n",
            "Unpacking python3-mpmath (1.2.1-2) ...\n",
            "Selecting previously unselected package python3-sympy.\n",
            "Preparing to unpack .../26-python3-sympy_1.9-1_all.deb ...\n",
            "Unpacking python3-sympy (1.9-1) ...\n",
            "Selecting previously unselected package python3-tz.\n",
            "Preparing to unpack .../27-python3-tz_2022.1-1ubuntu0.22.04.1_all.deb ...\n",
            "Unpacking python3-tz (2022.1-1ubuntu0.22.04.1) ...\n",
            "Selecting previously unselected package python3-fs.\n",
            "Preparing to unpack .../28-python3-fs_2.4.12-1_all.deb ...\n",
            "Unpacking python3-fs (2.4.12-1) ...\n",
            "Selecting previously unselected package python3-lxml:amd64.\n",
            "Preparing to unpack .../29-python3-lxml_4.8.0-1build1_amd64.deb ...\n",
            "Unpacking python3-lxml:amd64 (4.8.0-1build1) ...\n",
            "Selecting previously unselected package python3-lz4.\n",
            "Preparing to unpack .../30-python3-lz4_3.1.3+dfsg-1build3_amd64.deb ...\n",
            "Unpacking python3-lz4 (3.1.3+dfsg-1build3) ...\n",
            "Selecting previously unselected package python3-unicodedata2.\n",
            "Preparing to unpack .../31-python3-unicodedata2_14.0.0+ds-8_amd64.deb ...\n",
            "Unpacking python3-unicodedata2 (14.0.0+ds-8) ...\n",
            "Selecting previously unselected package unicode-data.\n",
            "Preparing to unpack .../32-unicode-data_14.0.0-1.1_all.deb ...\n",
            "Unpacking unicode-data (14.0.0-1.1) ...\n",
            "Selecting previously unselected package python3-fonttools.\n",
            "Preparing to unpack .../33-python3-fonttools_4.29.1-2build1_amd64.deb ...\n",
            "Unpacking python3-fonttools (4.29.1-2build1) ...\n",
            "Selecting previously unselected package python3-webencodings.\n",
            "Preparing to unpack .../34-python3-webencodings_0.5.1-4_all.deb ...\n",
            "Unpacking python3-webencodings (0.5.1-4) ...\n",
            "Selecting previously unselected package python3-html5lib.\n",
            "Preparing to unpack .../35-python3-html5lib_1.1-3_all.deb ...\n",
            "Unpacking python3-html5lib (1.1-3) ...\n",
            "Selecting previously unselected package python3-iniconfig.\n",
            "Preparing to unpack .../36-python3-iniconfig_1.1.1-2_all.deb ...\n",
            "Unpacking python3-iniconfig (1.1.1-2) ...\n",
            "Selecting previously unselected package python3-joblib.\n",
            "Preparing to unpack .../37-python3-joblib_0.17.0-4ubuntu1_all.deb ...\n",
            "Unpacking python3-joblib (0.17.0-4ubuntu1) ...\n",
            "Selecting previously unselected package python3-kiwisolver.\n",
            "Preparing to unpack .../38-python3-kiwisolver_1.3.2-1build1_amd64.deb ...\n",
            "Unpacking python3-kiwisolver (1.3.2-1build1) ...\n",
            "Selecting previously unselected package python3-pil:amd64.\n",
            "Preparing to unpack .../39-python3-pil_9.0.1-1ubuntu0.3_amd64.deb ...\n",
            "Unpacking python3-pil:amd64 (9.0.1-1ubuntu0.3) ...\n",
            "Selecting previously unselected package python3-pil.imagetk:amd64.\n",
            "Preparing to unpack .../40-python3-pil.imagetk_9.0.1-1ubuntu0.3_amd64.deb ...\n",
            "Unpacking python3-pil.imagetk:amd64 (9.0.1-1ubuntu0.3) ...\n",
            "Selecting previously unselected package python3-packaging.\n",
            "Preparing to unpack .../41-python3-packaging_21.3-1_all.deb ...\n",
            "Unpacking python3-packaging (21.3-1) ...\n",
            "Selecting previously unselected package python3-matplotlib.\n",
            "Preparing to unpack .../42-python3-matplotlib_3.5.1-2build1_amd64.deb ...\n",
            "Unpacking python3-matplotlib (3.5.1-2build1) ...\n",
            "Selecting previously unselected package python3-nose.\n",
            "Preparing to unpack .../43-python3-nose_1.3.7-8_all.deb ...\n",
            "Unpacking python3-nose (1.3.7-8) ...\n",
            "Selecting previously unselected package python3-olefile.\n",
            "Preparing to unpack .../44-python3-olefile_0.46-3_all.deb ...\n",
            "Unpacking python3-olefile (0.46-3) ...\n",
            "Selecting previously unselected package python3-pluggy.\n",
            "Preparing to unpack .../45-python3-pluggy_0.13.0-7.1_all.deb ...\n",
            "Unpacking python3-pluggy (0.13.0-7.1) ...\n",
            "Selecting previously unselected package python3-psutil.\n",
            "Preparing to unpack .../46-python3-psutil_5.9.0-1build1_amd64.deb ...\n",
            "Unpacking python3-psutil (5.9.0-1build1) ...\n",
            "Selecting previously unselected package python3-py.\n",
            "Preparing to unpack .../47-python3-py_1.10.0-1_all.deb ...\n",
            "Unpacking python3-py (1.10.0-1) ...\n",
            "Selecting previously unselected package python3-pygments.\n",
            "Preparing to unpack .../48-python3-pygments_2.11.2+dfsg-2_all.deb ...\n",
            "Unpacking python3-pygments (2.11.2+dfsg-2) ...\n",
            "Selecting previously unselected package python3-toml.\n",
            "Preparing to unpack .../49-python3-toml_0.10.2-1_all.deb ...\n",
            "Unpacking python3-toml (0.10.2-1) ...\n",
            "Selecting previously unselected package python3-pytest.\n",
            "Preparing to unpack .../50-python3-pytest_6.2.5-1ubuntu2_all.deb ...\n",
            "Unpacking python3-pytest (6.2.5-1ubuntu2) ...\n",
            "Selecting previously unselected package python3-simplejson.\n",
            "Preparing to unpack .../51-python3-simplejson_3.17.6-1build1_amd64.deb ...\n",
            "Unpacking python3-simplejson (3.17.6-1build1) ...\n",
            "Selecting previously unselected package python3-sklearn-lib:amd64.\n",
            "Preparing to unpack .../52-python3-sklearn-lib_0.23.2-5ubuntu6_amd64.deb ...\n",
            "Unpacking python3-sklearn-lib:amd64 (0.23.2-5ubuntu6) ...\n",
            "Selecting previously unselected package python3-threadpoolctl.\n",
            "Preparing to unpack .../53-python3-threadpoolctl_3.1.0-1_all.deb ...\n",
            "Unpacking python3-threadpoolctl (3.1.0-1) ...\n",
            "Selecting previously unselected package python3-sklearn.\n",
            "Preparing to unpack .../54-python3-sklearn_0.23.2-5ubuntu6_all.deb ...\n",
            "Unpacking python3-sklearn (0.23.2-5ubuntu6) ...\n",
            "Setting up python3-iniconfig (1.1.1-2) ...\n",
            "Setting up python3-attr (21.2.0-1) ...\n",
            "Setting up python3-py (1.10.0-1) ...\n",
            "Setting up python3-joblib (0.17.0-4ubuntu1) ...\n",
            "Setting up python3-lz4 (3.1.3+dfsg-1build3) ...\n",
            "Setting up python3-unicodedata2 (14.0.0+ds-8) ...\n",
            "Setting up fonts-lyx (2.3.6-1) ...\n",
            "Setting up python3-olefile (0.46-3) ...\n",
            "Setting up python3-ply (3.11-5) ...\n",
            "Setting up python3-threadpoolctl (3.1.0-1) ...\n",
            "Setting up python3-gast (0.5.2-2) ...\n",
            "Setting up python3-nose (1.3.7-8) ...\n",
            "Setting up python3-webencodings (0.5.1-4) ...\n",
            "Setting up python3-psutil (5.9.0-1build1) ...\n",
            "Setting up python3-tz (2022.1-1ubuntu0.22.04.1) ...\n",
            "Setting up unicode-data (14.0.0-1.1) ...\n",
            "Setting up python3-beniget (0.4.1-2) ...\n",
            "Setting up python3-simplejson (3.17.6-1build1) ...\n",
            "Setting up libxsimd-dev:amd64 (7.6.0-2) ...\n",
            "Setting up python3-decorator (4.4.2-0ubuntu1) ...\n",
            "Setting up python3-pygments (2.11.2+dfsg-2) ...\n",
            "Setting up python3-packaging (21.3-1) ...\n",
            "Setting up python3-chardet (4.0.0-1) ...\n",
            "Setting up python3-brotli (1.0.9-2build6) ...\n",
            "Setting up libraqm0:amd64 (0.7.0-4ubuntu1) ...\n",
            "Setting up python3-cycler (0.11.0-1) ...\n",
            "Setting up libimagequant0:amd64 (2.17.0-1) ...\n",
            "Setting up python3-kiwisolver (1.3.2-1build1) ...\n",
            "Setting up fonts-dejavu-core (2.37-2build1) ...\n",
            "Setting up python3-html5lib (1.1-3) ...\n",
            "Setting up python3-numpy (1:1.21.5-1ubuntu22.04.1) ...\n",
            "Setting up python3-toml (0.10.2-1) ...\n",
            "Setting up python3-pluggy (0.13.0-7.1) ...\n",
            "Setting up python3-pythran (0.10.0+ds2-1) ...\n",
            "Setting up python3-lxml:amd64 (4.8.0-1build1) ...\n",
            "Setting up python3-dateutil (2.8.1-6) ...\n",
            "Setting up python3-mpmath (1.2.1-2) ...\n",
            "Setting up python-matplotlib-data (3.5.1-2build1) ...\n",
            "Setting up python3-appdirs (1.4.4-2) ...\n",
            "Setting up mailcap (3.70+nmu1ubuntu1) ...\n",
            "Setting up python3-soupsieve (2.3.1-1) ...\n",
            "Setting up liblbfgsb0:amd64 (3.0+dfsg.3-10) ...\n",
            "Setting up python3-sympy (1.9-1) ...\n",
            "Setting up python3-scipy (1.8.0-1exp2ubuntu1) ...\n",
            "Setting up mime-support (3.66) ...\n",
            "Setting up python3-pytest (6.2.5-1ubuntu2) ...\n",
            "Setting up python3-sklearn-lib:amd64 (0.23.2-5ubuntu6) ...\n",
            "Setting up python3-bs4 (4.10.0-2) ...\n",
            "Setting up python3-fs (2.4.12-1) ...\n",
            "Setting up python3-pil:amd64 (9.0.1-1ubuntu0.3) ...\n",
            "Setting up python3-pil.imagetk:amd64 (9.0.1-1ubuntu0.3) ...\n",
            "Setting up python3-sklearn (0.23.2-5ubuntu6) ...\n",
            "Setting up python3-ufolib2 (0.13.1+dfsg1-1) ...\n",
            "Setting up python3-fonttools (4.29.1-2build1) ...\n",
            "Setting up python3-matplotlib (3.5.1-2build1) ...\n",
            "Processing triggers for libc-bin (2.35-0ubuntu3.4) ...\n",
            "/sbin/ldconfig.real: /usr/local/lib/libtbbmalloc.so.2 is not a symbolic link\n",
            "\n",
            "/sbin/ldconfig.real: /usr/local/lib/libtbbbind_2_0.so.3 is not a symbolic link\n",
            "\n",
            "/sbin/ldconfig.real: /usr/local/lib/libtbbbind.so.3 is not a symbolic link\n",
            "\n",
            "/sbin/ldconfig.real: /usr/local/lib/libtbb.so.12 is not a symbolic link\n",
            "\n",
            "/sbin/ldconfig.real: /usr/local/lib/libtbbbind_2_5.so.3 is not a symbolic link\n",
            "\n",
            "/sbin/ldconfig.real: /usr/local/lib/libtbbmalloc_proxy.so.2 is not a symbolic link\n",
            "\n",
            "Processing triggers for man-db (2.10.2-1) ...\n",
            "Processing triggers for fontconfig (2.13.1-4.2ubuntu5) ...\n"
          ]
        }
      ]
    },
    {
      "cell_type": "code",
      "source": [
        "import matplotlib.pyplot as plt\n",
        "from sklearn.metrics import confusion_matrix\n",
        "import seaborn as sns\n",
        "\n",
        "# Calculate confusion matrix\n",
        "conf_matrix = confusion_matrix(y_test, y_pred)\n",
        "\n",
        "# Plot confusion matrix\n",
        "plt.figure(figsize=(8, 6))\n",
        "sns.heatmap(conf_matrix, annot=True, cmap='Blues', xticklabels=CATEGORIES, yticklabels=CATEGORIES)\n",
        "plt.xlabel('Predicted Labels')\n",
        "plt.ylabel('True Labels')\n",
        "plt.title('Confusion Matrix')\n",
        "plt.show()\n"
      ],
      "metadata": {
        "colab": {
          "base_uri": "https://localhost:8080/",
          "height": 581
        },
        "id": "1rBZPfXVuwPn",
        "outputId": "05a1de3d-d91a-4d8b-dcb0-52131c0ef1a3"
      },
      "execution_count": null,
      "outputs": [
        {
          "output_type": "display_data",
          "data": {
            "text/plain": [
              "<Figure size 800x600 with 2 Axes>"
            ],
            "image/png": "[encoded data removed]"
          },
          "metadata": {}
        },
        {
          "output_type": "stream",
          "name": "stdout",
          "text": [
            "time: 589 ms (started: 2024-04-24 11:03:19 +00:00)\n"
          ]
        }
      ]
    }
  ]
}